{
 "cells": [
  {
   "cell_type": "markdown",
   "id": "d9cfb99e-c96b-4d5d-b346-d218c53296ae",
   "metadata": {
    "tags": []
   },
   "source": [
    "# Predicting Bean Type Using Predictors:\n"
   ]
  },
  {
   "cell_type": "markdown",
   "id": "2d0825ea-aff7-440b-b92c-d3d229fc4932",
   "metadata": {},
   "source": [
    "# Introduction:\n",
    "For our group project, we will be using the UC Irvine dry bean database with predictors such as area, perimeter, major axis length, minor axis length, aspect ratio, as well as other factors. With this information, we can answer the question: What is the type of bean given data about the predictors?  The UC Irvine dry bean dataset contains 6 different classes for beans, and with the predictors given we attempt to accurately classify the bean with its correct class. This would allow for easier and more convenient classification for beans, which can be a tedious task if done manually.\n",
    "\n",
    "Here are the variables in this dataset:\n",
    "\n",
    "*Area-The area of a bean zone and the number of pixels within its boundaries.\n",
    "\n",
    "*Perimeter-Bean circumference is defined as the length of its border.\n",
    "\n",
    "*MajorAxisLength-The distance between the ends of the longest line that can be drawn from a bean.\n",
    "\n",
    "*MinorAxisLength-The longest line that can be drawn from the bean while standing perpendicular to the main axis.\n",
    "\n",
    "*AspectRatio-Defines the relationship between MajorAxisLength and MinorAxisLength.\n",
    "\n",
    "*Eccentricity-Eccentricity of the ellipse having the same moments as the region.\n",
    "\n",
    "*ConvexArea-Number of pixels in the smallest convex polygon that can contain the area of a bean seed.\n",
    "\n",
    "*EquivDiameter-Equivalent diameter: The diameter of a circle having the same area as a bean seed area.\n",
    "\n",
    "*Extent-The ratio of the pixels in the bounding box to the bean area.\n",
    "\n",
    "*Solidity-Also known as convexity. The ratio of the pixels in the convex shell to those found in beans.\n",
    "\n",
    "*Roundness-Calculated with the following formula: (4piA)/(P^2).\n",
    "\n",
    "*Compactness-Measures the roundness of an object.\n"
   ]
  },
  {
   "cell_type": "markdown",
   "id": "3d9ee278-bda6-4417-8469-c28394bef28a",
   "metadata": {},
   "source": [
    "# Preliminary Exploratory Data Analysis:"
   ]
  },
  {
   "cell_type": "markdown",
   "id": "95426e3d-4c0c-47a3-b846-9d815f2f7334",
   "metadata": {},
   "source": [
    "To begin this project, we first loaded in the necessary libraries needed for our data analysis. This set also includes loading in the data file, from our github page into Jupyter seen in the second cell below."
   ]
  },
  {
   "cell_type": "code",
   "execution_count": 1,
   "id": "90cec191-2a4f-489c-b998-8f05ee4229ce",
   "metadata": {
    "tags": []
   },
   "outputs": [
    {
     "name": "stderr",
     "output_type": "stream",
     "text": [
      "── \u001b[1mAttaching core tidyverse packages\u001b[22m ──────────────────────── tidyverse 2.0.0 ──\n",
      "\u001b[32m✔\u001b[39m \u001b[34mdplyr    \u001b[39m 1.1.3     \u001b[32m✔\u001b[39m \u001b[34mreadr    \u001b[39m 2.1.4\n",
      "\u001b[32m✔\u001b[39m \u001b[34mforcats  \u001b[39m 1.0.0     \u001b[32m✔\u001b[39m \u001b[34mstringr  \u001b[39m 1.5.0\n",
      "\u001b[32m✔\u001b[39m \u001b[34mggplot2  \u001b[39m 3.4.4     \u001b[32m✔\u001b[39m \u001b[34mtibble   \u001b[39m 3.2.1\n",
      "\u001b[32m✔\u001b[39m \u001b[34mlubridate\u001b[39m 1.9.3     \u001b[32m✔\u001b[39m \u001b[34mtidyr    \u001b[39m 1.3.0\n",
      "\u001b[32m✔\u001b[39m \u001b[34mpurrr    \u001b[39m 1.0.2     \n",
      "── \u001b[1mConflicts\u001b[22m ────────────────────────────────────────── tidyverse_conflicts() ──\n",
      "\u001b[31m✖\u001b[39m \u001b[34mdplyr\u001b[39m::\u001b[32mfilter()\u001b[39m masks \u001b[34mstats\u001b[39m::filter()\n",
      "\u001b[31m✖\u001b[39m \u001b[34mdplyr\u001b[39m::\u001b[32mlag()\u001b[39m    masks \u001b[34mstats\u001b[39m::lag()\n",
      "\u001b[36mℹ\u001b[39m Use the conflicted package (\u001b[3m\u001b[34m<http://conflicted.r-lib.org/>\u001b[39m\u001b[23m) to force all conflicts to become errors\n",
      "── \u001b[1mAttaching packages\u001b[22m ────────────────────────────────────── tidymodels 1.1.1 ──\n",
      "\n",
      "\u001b[32m✔\u001b[39m \u001b[34mbroom       \u001b[39m 1.0.5     \u001b[32m✔\u001b[39m \u001b[34mrsample     \u001b[39m 1.2.0\n",
      "\u001b[32m✔\u001b[39m \u001b[34mdials       \u001b[39m 1.2.0     \u001b[32m✔\u001b[39m \u001b[34mtune        \u001b[39m 1.1.2\n",
      "\u001b[32m✔\u001b[39m \u001b[34minfer       \u001b[39m 1.0.5     \u001b[32m✔\u001b[39m \u001b[34mworkflows   \u001b[39m 1.1.3\n",
      "\u001b[32m✔\u001b[39m \u001b[34mmodeldata   \u001b[39m 1.2.0     \u001b[32m✔\u001b[39m \u001b[34mworkflowsets\u001b[39m 1.0.1\n",
      "\u001b[32m✔\u001b[39m \u001b[34mparsnip     \u001b[39m 1.1.1     \u001b[32m✔\u001b[39m \u001b[34myardstick   \u001b[39m 1.2.0\n",
      "\u001b[32m✔\u001b[39m \u001b[34mrecipes     \u001b[39m 1.0.8     \n",
      "\n",
      "── \u001b[1mConflicts\u001b[22m ───────────────────────────────────────── tidymodels_conflicts() ──\n",
      "\u001b[31m✖\u001b[39m \u001b[34mscales\u001b[39m::\u001b[32mdiscard()\u001b[39m masks \u001b[34mpurrr\u001b[39m::discard()\n",
      "\u001b[31m✖\u001b[39m \u001b[34mdplyr\u001b[39m::\u001b[32mfilter()\u001b[39m   masks \u001b[34mstats\u001b[39m::filter()\n",
      "\u001b[31m✖\u001b[39m \u001b[34mrecipes\u001b[39m::\u001b[32mfixed()\u001b[39m  masks \u001b[34mstringr\u001b[39m::fixed()\n",
      "\u001b[31m✖\u001b[39m \u001b[34mdplyr\u001b[39m::\u001b[32mlag()\u001b[39m      masks \u001b[34mstats\u001b[39m::lag()\n",
      "\u001b[31m✖\u001b[39m \u001b[34myardstick\u001b[39m::\u001b[32mspec()\u001b[39m masks \u001b[34mreadr\u001b[39m::spec()\n",
      "\u001b[31m✖\u001b[39m \u001b[34mrecipes\u001b[39m::\u001b[32mstep()\u001b[39m   masks \u001b[34mstats\u001b[39m::step()\n",
      "\u001b[34m•\u001b[39m Learn how to get started at \u001b[32mhttps://www.tidymodels.org/start/\u001b[39m\n",
      "\n",
      "\n",
      "Attaching package: 'RCurl'\n",
      "\n",
      "\n",
      "The following object is masked from 'package:tidyr':\n",
      "\n",
      "    complete\n",
      "\n",
      "\n"
     ]
    }
   ],
   "source": [
    "library(tidyverse)\n",
    "library(tidymodels)\n",
    "#library(dbplyr)\n",
    "library(purrr)\n",
    "library(readxl)\n",
    "library(RCurl)"
   ]
  },
  {
   "cell_type": "code",
   "execution_count": 6,
   "id": "aea0e908-2618-43a2-8665-2419dcbdb7a7",
   "metadata": {
    "tags": []
   },
   "outputs": [
    {
     "name": "stderr",
     "output_type": "stream",
     "text": [
      "\u001b[1mRows: \u001b[22m\u001b[34m13611\u001b[39m \u001b[1mColumns: \u001b[22m\u001b[34m17\u001b[39m\n",
      "\u001b[36m──\u001b[39m \u001b[1mColumn specification\u001b[22m \u001b[36m────────────────────────────────────────────────────────\u001b[39m\n",
      "\u001b[1mDelimiter:\u001b[22m \",\"\n",
      "\u001b[31mchr\u001b[39m  (1): Class\n",
      "\u001b[32mdbl\u001b[39m (16): Area, Perimeter, MajorAxisLength, MinorAxisLength, AspectRation, E...\n",
      "\n",
      "\u001b[36mℹ\u001b[39m Use `spec()` to retrieve the full column specification for this data.\n",
      "\u001b[36mℹ\u001b[39m Specify the column types or set `show_col_types = FALSE` to quiet this message.\n"
     ]
    },
    {
     "name": "stdout",
     "output_type": "stream",
     "text": [
      "Rows: 13,611\n",
      "Columns: 17\n",
      "$ Area            \u001b[3m\u001b[90m<dbl>\u001b[39m\u001b[23m 28395, 28734, 29380, 30008, 30140, 30279, 30477, 30519…\n",
      "$ Perimeter       \u001b[3m\u001b[90m<dbl>\u001b[39m\u001b[23m 610.291, 638.018, 624.110, 645.884, 620.134, 634.927, …\n",
      "$ MajorAxisLength \u001b[3m\u001b[90m<dbl>\u001b[39m\u001b[23m 208.1781, 200.5248, 212.8261, 210.5580, 201.8479, 212.…\n",
      "$ MinorAxisLength \u001b[3m\u001b[90m<dbl>\u001b[39m\u001b[23m 173.8887, 182.7344, 175.9311, 182.5165, 190.2793, 181.…\n",
      "$ AspectRation    \u001b[3m\u001b[90m<dbl>\u001b[39m\u001b[23m 1.197191, 1.097356, 1.209713, 1.153638, 1.060798, 1.17…\n",
      "$ Eccentricity    \u001b[3m\u001b[90m<dbl>\u001b[39m\u001b[23m 0.5498122, 0.4117853, 0.5627273, 0.4986160, 0.3336797,…\n",
      "$ ConvexArea      \u001b[3m\u001b[90m<dbl>\u001b[39m\u001b[23m 28715, 29172, 29690, 30724, 30417, 30600, 30970, 30847…\n",
      "$ EquivDiameter   \u001b[3m\u001b[90m<dbl>\u001b[39m\u001b[23m 190.1411, 191.2728, 193.4109, 195.4671, 195.8965, 196.…\n",
      "$ Extent          \u001b[3m\u001b[90m<dbl>\u001b[39m\u001b[23m 0.7639225, 0.7839681, 0.7781132, 0.7826813, 0.7730980,…\n",
      "$ Solidity        \u001b[3m\u001b[90m<dbl>\u001b[39m\u001b[23m 0.9888560, 0.9849856, 0.9895588, 0.9766957, 0.9908932,…\n",
      "$ roundness       \u001b[3m\u001b[90m<dbl>\u001b[39m\u001b[23m 0.9580271, 0.8870336, 0.9478495, 0.9039364, 0.9848771,…\n",
      "$ Compactness     \u001b[3m\u001b[90m<dbl>\u001b[39m\u001b[23m 0.9133578, 0.9538608, 0.9087742, 0.9283288, 0.9705155,…\n",
      "$ ShapeFactor1    \u001b[3m\u001b[90m<dbl>\u001b[39m\u001b[23m 0.007331506, 0.006978659, 0.007243912, 0.007016729, 0.…\n",
      "$ ShapeFactor2    \u001b[3m\u001b[90m<dbl>\u001b[39m\u001b[23m 0.003147289, 0.003563624, 0.003047733, 0.003214562, 0.…\n",
      "$ ShapeFactor3    \u001b[3m\u001b[90m<dbl>\u001b[39m\u001b[23m 0.8342224, 0.9098505, 0.8258706, 0.8617944, 0.9419004,…\n",
      "$ ShapeFactor4    \u001b[3m\u001b[90m<dbl>\u001b[39m\u001b[23m 0.9987239, 0.9984303, 0.9990661, 0.9941988, 0.9991661,…\n",
      "$ Class           \u001b[3m\u001b[90m<chr>\u001b[39m\u001b[23m \"SEKER\", \"SEKER\", \"SEKER\", \"SEKER\", \"SEKER\", \"SEKER\", …\n"
     ]
    }
   ],
   "source": [
    "url <- \"https://raw.githubusercontent.com/saucemmmm/DSCIProject2/main/Dry_Bean_Dataset.csv\"\n",
    "bean_data_unscaled <- read_csv(url)\n",
    "# Needs to be loaded in from original source on web\n",
    "glimpse(bean_data_unscaled)\n"
   ]
  },
  {
   "cell_type": "markdown",
   "id": "b5c6230a-ec7a-4800-9b7c-e0ef4c02fcbf",
   "metadata": {},
   "source": [
    "The above cell shows a glimpse of the data used in this classification analysis with 16 total columns related to the specific values associated with each bean and the final column being the class of bean denoted as seven types seen below."
   ]
  },
  {
   "cell_type": "code",
   "execution_count": 6,
   "id": "b228c5b6-72a6-4a9f-bdaf-f4f5ebb2315d",
   "metadata": {
    "tags": []
   },
   "outputs": [
    {
     "data": {
      "text/html": [
       "<table class=\"dataframe\">\n",
       "<caption>A tibble: 7 × 1</caption>\n",
       "<thead>\n",
       "\t<tr><th scope=col>Class</th></tr>\n",
       "\t<tr><th scope=col>&lt;chr&gt;</th></tr>\n",
       "</thead>\n",
       "<tbody>\n",
       "\t<tr><td>SEKER   </td></tr>\n",
       "\t<tr><td>BARBUNYA</td></tr>\n",
       "\t<tr><td>BOMBAY  </td></tr>\n",
       "\t<tr><td>CALI    </td></tr>\n",
       "\t<tr><td>HOROZ   </td></tr>\n",
       "\t<tr><td>SIRA    </td></tr>\n",
       "\t<tr><td>DERMASON</td></tr>\n",
       "</tbody>\n",
       "</table>\n"
      ],
      "text/latex": [
       "A tibble: 7 × 1\n",
       "\\begin{tabular}{l}\n",
       " Class\\\\\n",
       " <chr>\\\\\n",
       "\\hline\n",
       "\t SEKER   \\\\\n",
       "\t BARBUNYA\\\\\n",
       "\t BOMBAY  \\\\\n",
       "\t CALI    \\\\\n",
       "\t HOROZ   \\\\\n",
       "\t SIRA    \\\\\n",
       "\t DERMASON\\\\\n",
       "\\end{tabular}\n"
      ],
      "text/markdown": [
       "\n",
       "A tibble: 7 × 1\n",
       "\n",
       "| Class &lt;chr&gt; |\n",
       "|---|\n",
       "| SEKER    |\n",
       "| BARBUNYA |\n",
       "| BOMBAY   |\n",
       "| CALI     |\n",
       "| HOROZ    |\n",
       "| SIRA     |\n",
       "| DERMASON |\n",
       "\n"
      ],
      "text/plain": [
       "  Class   \n",
       "1 SEKER   \n",
       "2 BARBUNYA\n",
       "3 BOMBAY  \n",
       "4 CALI    \n",
       "5 HOROZ   \n",
       "6 SIRA    \n",
       "7 DERMASON"
      ]
     },
     "metadata": {},
     "output_type": "display_data"
    }
   ],
   "source": [
    "bean_class<-\n",
    "bean_data_unscaled|>distinct(Class)\n",
    "bean_class"
   ]
  },
  {
   "cell_type": "code",
   "execution_count": 7,
   "id": "13ff91d8-09b1-4346-b0cd-ba0a06d3233d",
   "metadata": {
    "tags": []
   },
   "outputs": [],
   "source": [
    "bean_data_unscaled<- bean_data_unscaled|>\n",
    "    mutate(Class = as_factor(Class))\n"
   ]
  },
  {
   "cell_type": "markdown",
   "id": "f9074b33-ec59-4ada-8776-907b0188a823",
   "metadata": {},
   "source": [
    "The above cell converts the Class variables from a character type variable into a factor making it possible to use in the classification model."
   ]
  },
  {
   "cell_type": "code",
   "execution_count": 8,
   "id": "4a44aa42-386f-4830-a115-319a5c27bf69",
   "metadata": {
    "tags": []
   },
   "outputs": [
    {
     "name": "stdout",
     "output_type": "stream",
     "text": [
      "Rows: 1,361\n",
      "Columns: 17\n",
      "$ Area            \u001b[3m\u001b[90m<dbl>\u001b[39m\u001b[23m 39192, 41191, 75990, 25765, 38374, 49946, 35742, 26707…\n",
      "$ Perimeter       \u001b[3m\u001b[90m<dbl>\u001b[39m\u001b[23m 709.658, 776.063, 1047.960, 593.281, 742.778, 836.653,…\n",
      "$ MajorAxisLength \u001b[3m\u001b[90m<dbl>\u001b[39m\u001b[23m 242.1603, 282.0423, 409.9497, 220.5953, 272.2549, 309.…\n",
      "$ MinorAxisLength \u001b[3m\u001b[90m<dbl>\u001b[39m\u001b[23m 206.3863, 186.4416, 237.5924, 149.0794, 180.2853, 205.…\n",
      "$ AspectRation    \u001b[3m\u001b[90m<dbl>\u001b[39m\u001b[23m 1.173336, 1.512765, 1.725432, 1.479717, 1.510134, 1.50…\n",
      "$ Eccentricity    \u001b[3m\u001b[90m<dbl>\u001b[39m\u001b[23m 0.5231003, 0.7503496, 0.8149261, 0.7370804, 0.7493335,…\n",
      "$ ConvexArea      \u001b[3m\u001b[90m<dbl>\u001b[39m\u001b[23m 39464, 41770, 76906, 26038, 38852, 50482, 36323, 26985…\n",
      "$ EquivDiameter   \u001b[3m\u001b[90m<dbl>\u001b[39m\u001b[23m 223.3849, 229.0109, 311.0522, 181.1216, 221.0414, 252.…\n",
      "$ Extent          \u001b[3m\u001b[90m<dbl>\u001b[39m\u001b[23m 0.7829787, 0.7909178, 0.6974439, 0.7074992, 0.7164408,…\n",
      "$ Solidity        \u001b[3m\u001b[90m<dbl>\u001b[39m\u001b[23m 0.9931076, 0.9861384, 0.9880894, 0.9895153, 0.9876969,…\n",
      "$ roundness       \u001b[3m\u001b[90m<dbl>\u001b[39m\u001b[23m 0.9779330, 0.8594453, 0.8695146, 0.9198545, 0.8740351,…\n",
      "$ Compactness     \u001b[3m\u001b[90m<dbl>\u001b[39m\u001b[23m 0.9224669, 0.8119737, 0.7587570, 0.8210580, 0.8118912,…\n",
      "$ ShapeFactor1    \u001b[3m\u001b[90m<dbl>\u001b[39m\u001b[23m 0.006178820, 0.006847183, 0.005394785, 0.008561821, 0.…\n",
      "$ ShapeFactor2    \u001b[3m\u001b[90m<dbl>\u001b[39m\u001b[23m 0.002759869, 0.001835944, 0.001102973, 0.002400166, 0.…\n",
      "$ ShapeFactor3    \u001b[3m\u001b[90m<dbl>\u001b[39m\u001b[23m 0.8509452, 0.6593012, 0.5757122, 0.6741362, 0.6591674,…\n",
      "$ ShapeFactor4    \u001b[3m\u001b[90m<dbl>\u001b[39m\u001b[23m 0.9984442, 0.9973678, 0.9933525, 0.9975306, 0.9954311,…\n",
      "$ Class           \u001b[3m\u001b[90m<fct>\u001b[39m\u001b[23m SEKER, SIRA, CALI, DERMASON, DERMASON, SIRA, DERMASON,…\n"
     ]
    }
   ],
   "source": [
    "set.seed(1)\n",
    "sample_size <- round(0.1 * nrow(bean_data_unscaled))\n",
    "random_sample <- bean_data_unscaled[sample(nrow(bean_data_unscaled), sample_size), ]\n",
    "glimpse(random_sample)"
   ]
  },
  {
   "cell_type": "markdown",
   "id": "1a8ff433-9cb2-4f6a-b896-c337fd6fcd2a",
   "metadata": {},
   "source": [
    "Due to the large size of the data, having had 13611 rows using 10% of these values is necessary in order to load run the classification model specification, specifically the K-value predictior which is shown later on. This 10% sample is randomly drawn from the dataset and is shown below, now with 1361 rows"
   ]
  },
  {
   "cell_type": "markdown",
   "id": "a95e66fb-7cbd-40b7-8e02-7217a1a7a26a",
   "metadata": {},
   "source": [
    "The plot below is one of many visualizations between two of the variables in the dataset and  displays how the variables are seperated by class, this is all show in the cell following this which displays the percentage of each class."
   ]
  },
  {
   "cell_type": "code",
   "execution_count": 9,
   "id": "ce015b26-4688-4f04-aa39-9ecd3b6e72da",
   "metadata": {
    "tags": []
   },
   "outputs": [
    {
     "name": "stdout",
     "output_type": "stream",
     "text": [
      "Rows: 1,019\n",
      "Columns: 17\n",
      "$ Area            \u001b[3m\u001b[90m<dbl>\u001b[39m\u001b[23m 64930, 80946, 74382, 156250, 74215, 90988, 103602, 786…\n",
      "$ Perimeter       \u001b[3m\u001b[90m<dbl>\u001b[39m\u001b[23m 990.342, 1093.510, 1073.257, 1509.428, 1058.806, 1150.…\n",
      "$ MajorAxisLength \u001b[3m\u001b[90m<dbl>\u001b[39m\u001b[23m 377.2082, 422.8378, 413.3196, 568.1211, 404.4510, 448.…\n",
      "$ MinorAxisLength \u001b[3m\u001b[90m<dbl>\u001b[39m\u001b[23m 220.6749, 245.3977, 230.4794, 352.3572, 236.0697, 259.…\n",
      "$ AspectRation    \u001b[3m\u001b[90m<dbl>\u001b[39m\u001b[23m 1.709339, 1.723072, 1.793304, 1.612344, 1.713270, 1.72…\n",
      "$ Eccentricity    \u001b[3m\u001b[90m<dbl>\u001b[39m\u001b[23m 0.8110179, 0.8143608, 0.8300896, 0.7844319, 0.8119843,…\n",
      "$ ConvexArea      \u001b[3m\u001b[90m<dbl>\u001b[39m\u001b[23m 65973, 81704, 75387, 157716, 75634, 91581, 104732, 803…\n",
      "$ EquivDiameter   \u001b[3m\u001b[90m<dbl>\u001b[39m\u001b[23m 287.5264, 321.0353, 307.7436, 446.0310, 307.3979, 340.…\n",
      "$ Extent          \u001b[3m\u001b[90m<dbl>\u001b[39m\u001b[23m 0.7452938, 0.6782805, 0.7911548, 0.7916202, 0.6716290,…\n",
      "$ Solidity        \u001b[3m\u001b[90m<dbl>\u001b[39m\u001b[23m 0.9841905, 0.9907226, 0.9866688, 0.9907048, 0.9812386,…\n",
      "$ roundness       \u001b[3m\u001b[90m<dbl>\u001b[39m\u001b[23m 0.8319263, 0.8506673, 0.8114659, 0.8617972, 0.8318955,…\n",
      "$ Compactness     \u001b[3m\u001b[90m<dbl>\u001b[39m\u001b[23m 0.7622485, 0.7592398, 0.7445657, 0.7850985, 0.7600374,…\n",
      "$ ShapeFactor1    \u001b[3m\u001b[90m<dbl>\u001b[39m\u001b[23m 0.005809460, 0.005223702, 0.005556715, 0.003635975, 0.…\n",
      "$ ShapeFactor2    \u001b[3m\u001b[90m<dbl>\u001b[39m\u001b[23m 0.001209767, 0.001070715, 0.001053440, 0.000852113, 0.…\n",
      "$ ShapeFactor3    \u001b[3m\u001b[90m<dbl>\u001b[39m\u001b[23m 0.5810228, 0.5764450, 0.5543780, 0.6163796, 0.5776568,…\n",
      "$ ShapeFactor4    \u001b[3m\u001b[90m<dbl>\u001b[39m\u001b[23m 0.9931651, 0.9932561, 0.9941682, 0.9938161, 0.9896819,…\n",
      "$ Class           \u001b[3m\u001b[90m<fct>\u001b[39m\u001b[23m CALI, CALI, CALI, BOMBAY, CALI, CALI, CALI, BARBUNYA, …\n"
     ]
    }
   ],
   "source": [
    "bean_split <- initial_split(random_sample, prop = 0.75, strata = Class)  \n",
    "bean_train <- training(bean_split)   \n",
    "bean_test <- testing(bean_split)\n",
    "glimpse(bean_train)"
   ]
  },
  {
   "cell_type": "code",
   "execution_count": 10,
   "id": "3112dbcf-2786-40b0-918e-ab01dd7a2ea5",
   "metadata": {
    "tags": []
   },
   "outputs": [
    {
     "name": "stderr",
     "output_type": "stream",
     "text": [
      "\u001b[1m\u001b[22m`stat_bin()` using `bins = 30`. Pick better value with `binwidth`.\n"
     ]
    },
    {
     "data": {
      "image/png": "[encoded data removed]",
      "text/plain": [
       "plot without title"
      ]
     },
     "metadata": {
      "image/png": {
       "height": 600,
       "width": 600
      }
     },
     "output_type": "display_data"
    }
   ],
   "source": [
    "options(repr.plot.height = 10, repr.plot.width = 10)\n",
    "\n",
    "\n",
    "predictor_distibution_plots<-\n",
    "ggplot(bean_train, aes(x = Area , fill = Class)) +\n",
    "  geom_histogram(alpha = 0.5, position = \"identity\")+\n",
    "ggtitle(\"Distribution of Different Type of Beans for Area(variable)\")\n",
    "\n",
    "\n",
    "\n",
    "predictor_distibution_plots"
   ]
  },
  {
   "cell_type": "code",
   "execution_count": 11,
   "id": "df131169-5a6a-4f32-b9c2-6029df05ff46",
   "metadata": {
    "tags": []
   },
   "outputs": [
    {
     "data": {
      "text/html": [
       "<table class=\"dataframe\">\n",
       "<caption>A tibble: 7 × 3</caption>\n",
       "<thead>\n",
       "\t<tr><th scope=col>Class</th><th scope=col>count</th><th scope=col>percentage</th></tr>\n",
       "\t<tr><th scope=col>&lt;fct&gt;</th><th scope=col>&lt;int&gt;</th><th scope=col>&lt;dbl&gt;</th></tr>\n",
       "</thead>\n",
       "<tbody>\n",
       "\t<tr><td>SEKER   </td><td>160</td><td>15.701668</td></tr>\n",
       "\t<tr><td>BARBUNYA</td><td> 78</td><td> 7.654563</td></tr>\n",
       "\t<tr><td>BOMBAY  </td><td> 36</td><td> 3.532875</td></tr>\n",
       "\t<tr><td>CALI    </td><td>109</td><td>10.696762</td></tr>\n",
       "\t<tr><td>HOROZ   </td><td>135</td><td>13.248283</td></tr>\n",
       "\t<tr><td>SIRA    </td><td>217</td><td>21.295388</td></tr>\n",
       "\t<tr><td>DERMASON</td><td>284</td><td>27.870461</td></tr>\n",
       "</tbody>\n",
       "</table>\n"
      ],
      "text/latex": [
       "A tibble: 7 × 3\n",
       "\\begin{tabular}{lll}\n",
       " Class & count & percentage\\\\\n",
       " <fct> & <int> & <dbl>\\\\\n",
       "\\hline\n",
       "\t SEKER    & 160 & 15.701668\\\\\n",
       "\t BARBUNYA &  78 &  7.654563\\\\\n",
       "\t BOMBAY   &  36 &  3.532875\\\\\n",
       "\t CALI     & 109 & 10.696762\\\\\n",
       "\t HOROZ    & 135 & 13.248283\\\\\n",
       "\t SIRA     & 217 & 21.295388\\\\\n",
       "\t DERMASON & 284 & 27.870461\\\\\n",
       "\\end{tabular}\n"
      ],
      "text/markdown": [
       "\n",
       "A tibble: 7 × 3\n",
       "\n",
       "| Class &lt;fct&gt; | count &lt;int&gt; | percentage &lt;dbl&gt; |\n",
       "|---|---|---|\n",
       "| SEKER    | 160 | 15.701668 |\n",
       "| BARBUNYA |  78 |  7.654563 |\n",
       "| BOMBAY   |  36 |  3.532875 |\n",
       "| CALI     | 109 | 10.696762 |\n",
       "| HOROZ    | 135 | 13.248283 |\n",
       "| SIRA     | 217 | 21.295388 |\n",
       "| DERMASON | 284 | 27.870461 |\n",
       "\n"
      ],
      "text/plain": [
       "  Class    count percentage\n",
       "1 SEKER    160   15.701668 \n",
       "2 BARBUNYA  78    7.654563 \n",
       "3 BOMBAY    36    3.532875 \n",
       "4 CALI     109   10.696762 \n",
       "5 HOROZ    135   13.248283 \n",
       "6 SIRA     217   21.295388 \n",
       "7 DERMASON 284   27.870461 "
      ]
     },
     "metadata": {},
     "output_type": "display_data"
    }
   ],
   "source": [
    "num_obs<-nrow(bean_train)\n",
    "num_type_train<-\n",
    "bean_train|>\n",
    "group_by(Class) |>\n",
    "  summarize(\n",
    "    count = n(),\n",
    "    percentage = n() / num_obs * 100)\n",
    "num_type_train"
   ]
  },
  {
   "cell_type": "markdown",
   "id": "1259ff9b-cc54-4f7b-82ab-050348f7f5e6",
   "metadata": {},
   "source": [
    "We then create the training and testing set with a 75% proportion and first analysis a model with k nearest neighbors set to 3. This helps to gauge what K accuracy the model may have. Because the models aim is to maximize the accuracy of this classification model, we use all explanatory variables from the dataset in the model."
   ]
  },
  {
   "cell_type": "markdown",
   "id": "00ec615b-47b9-491d-b97d-11345071a863",
   "metadata": {},
   "source": [
    "To determine which of the predictors to use in order to maximize our classification model, we need to create a graph of the model accuracy estimates and the number of predictors seen below."
   ]
  },
  {
   "cell_type": "code",
   "execution_count": 15,
   "id": "afe45988-3995-4dc2-9bb3-e0b72e324162",
   "metadata": {
    "tags": []
   },
   "outputs": [
    {
     "data": {
      "text/html": [
       "<table class=\"dataframe\">\n",
       "<caption>A tibble: 1361 × 17</caption>\n",
       "<thead>\n",
       "\t<tr><th scope=col>Class</th><th scope=col>Area</th><th scope=col>Perimeter</th><th scope=col>MajorAxisLength</th><th scope=col>MinorAxisLength</th><th scope=col>AspectRation</th><th scope=col>Eccentricity</th><th scope=col>ConvexArea</th><th scope=col>EquivDiameter</th><th scope=col>Extent</th><th scope=col>Solidity</th><th scope=col>roundness</th><th scope=col>Compactness</th><th scope=col>ShapeFactor1</th><th scope=col>ShapeFactor2</th><th scope=col>ShapeFactor3</th><th scope=col>ShapeFactor4</th></tr>\n",
       "\t<tr><th scope=col>&lt;fct&gt;</th><th scope=col>&lt;dbl&gt;</th><th scope=col>&lt;dbl&gt;</th><th scope=col>&lt;dbl&gt;</th><th scope=col>&lt;dbl&gt;</th><th scope=col>&lt;dbl&gt;</th><th scope=col>&lt;dbl&gt;</th><th scope=col>&lt;dbl&gt;</th><th scope=col>&lt;dbl&gt;</th><th scope=col>&lt;dbl&gt;</th><th scope=col>&lt;dbl&gt;</th><th scope=col>&lt;dbl&gt;</th><th scope=col>&lt;dbl&gt;</th><th scope=col>&lt;dbl&gt;</th><th scope=col>&lt;dbl&gt;</th><th scope=col>&lt;dbl&gt;</th><th scope=col>&lt;dbl&gt;</th></tr>\n",
       "</thead>\n",
       "<tbody>\n",
       "\t<tr><td>SEKER   </td><td>39192</td><td> 709.658</td><td>242.1603</td><td>206.3863</td><td>1.173336</td><td>0.5231003</td><td>39464</td><td>223.3849</td><td>0.7829787</td><td>0.9931076</td><td>0.9779330</td><td>0.9224669</td><td>0.006178820</td><td>0.002759869</td><td>0.8509452</td><td>0.9984442</td></tr>\n",
       "\t<tr><td>SIRA    </td><td>41191</td><td> 776.063</td><td>282.0423</td><td>186.4416</td><td>1.512765</td><td>0.7503496</td><td>41770</td><td>229.0109</td><td>0.7909178</td><td>0.9861384</td><td>0.8594453</td><td>0.8119737</td><td>0.006847183</td><td>0.001835944</td><td>0.6593012</td><td>0.9973678</td></tr>\n",
       "\t<tr><td>CALI    </td><td>75990</td><td>1047.960</td><td>409.9497</td><td>237.5924</td><td>1.725432</td><td>0.8149261</td><td>76906</td><td>311.0522</td><td>0.6974439</td><td>0.9880894</td><td>0.8695146</td><td>0.7587570</td><td>0.005394785</td><td>0.001102973</td><td>0.5757122</td><td>0.9933525</td></tr>\n",
       "\t<tr><td>DERMASON</td><td>25765</td><td> 593.281</td><td>220.5953</td><td>149.0794</td><td>1.479717</td><td>0.7370804</td><td>26038</td><td>181.1216</td><td>0.7074992</td><td>0.9895153</td><td>0.9198545</td><td>0.8210580</td><td>0.008561821</td><td>0.002400166</td><td>0.6741362</td><td>0.9975306</td></tr>\n",
       "\t<tr><td>DERMASON</td><td>38374</td><td> 742.778</td><td>272.2549</td><td>180.2853</td><td>1.510134</td><td>0.7493335</td><td>38852</td><td>221.0414</td><td>0.7164408</td><td>0.9876969</td><td>0.8740351</td><td>0.8118912</td><td>0.007094776</td><td>0.001901559</td><td>0.6591674</td><td>0.9954311</td></tr>\n",
       "\t<tr><td>SIRA    </td><td>49946</td><td> 836.653</td><td>309.7137</td><td>205.5396</td><td>1.506832</td><td>0.7480485</td><td>50482</td><td>252.1770</td><td>0.7809676</td><td>0.9893824</td><td>0.8966436</td><td>0.8142262</td><td>0.006200970</td><td>0.001681201</td><td>0.6629643</td><td>0.9989756</td></tr>\n",
       "\t<tr><td>DERMASON</td><td>35742</td><td> 715.642</td><td>271.8202</td><td>168.9011</td><td>1.609346</td><td>0.7835169</td><td>36323</td><td>213.3263</td><td>0.8024697</td><td>0.9840046</td><td>0.8769949</td><td>0.7848067</td><td>0.007605065</td><td>0.001779646</td><td>0.6159216</td><td>0.9912308</td></tr>\n",
       "\t<tr><td>DERMASON</td><td>26707</td><td> 606.667</td><td>228.2436</td><td>149.4176</td><td>1.527555</td><td>0.7559399</td><td>26985</td><td>184.4028</td><td>0.7861474</td><td>0.9896980</td><td>0.9118727</td><td>0.8079212</td><td>0.008546209</td><td>0.002246101</td><td>0.6527367</td><td>0.9970911</td></tr>\n",
       "\t<tr><td>SIRA    </td><td>43317</td><td> 778.174</td><td>289.8818</td><td>190.6852</td><td>1.520211</td><td>0.7531897</td><td>43794</td><td>234.8466</td><td>0.7352831</td><td>0.9891081</td><td>0.8989071</td><td>0.8101460</td><td>0.006692102</td><td>0.001778261</td><td>0.6563366</td><td>0.9977702</td></tr>\n",
       "\t<tr><td>CALI    </td><td>64930</td><td> 990.342</td><td>377.2082</td><td>220.6749</td><td>1.709339</td><td>0.8110179</td><td>65973</td><td>287.5264</td><td>0.7452938</td><td>0.9841905</td><td>0.8319263</td><td>0.7622485</td><td>0.005809460</td><td>0.001209767</td><td>0.5810228</td><td>0.9931651</td></tr>\n",
       "\t<tr><td>DERMASON</td><td>40720</td><td> 762.940</td><td>299.9817</td><td>173.5539</td><td>1.728464</td><td>0.8156481</td><td>41121</td><td>227.6979</td><td>0.7941492</td><td>0.9902483</td><td>0.8790971</td><td>0.7590393</td><td>0.007366937</td><td>0.001508425</td><td>0.5761406</td><td>0.9958383</td></tr>\n",
       "\t<tr><td>DERMASON</td><td>30907</td><td> 655.571</td><td>247.9195</td><td>159.0074</td><td>1.559170</td><td>0.7672342</td><td>31252</td><td>198.3734</td><td>0.7464557</td><td>0.9889607</td><td>0.9037062</td><td>0.8001526</td><td>0.008021467</td><td>0.002028266</td><td>0.6402442</td><td>0.9982492</td></tr>\n",
       "\t<tr><td>DERMASON</td><td>33554</td><td> 680.837</td><td>266.1425</td><td>160.7708</td><td>1.655416</td><td>0.7969253</td><td>33834</td><td>206.6937</td><td>0.7431178</td><td>0.9917243</td><td>0.9096365</td><td>0.7766280</td><td>0.007931766</td><td>0.001779925</td><td>0.6031510</td><td>0.9984657</td></tr>\n",
       "\t<tr><td>SIRA    </td><td>44800</td><td> 796.542</td><td>309.2405</td><td>185.2238</td><td>1.669550</td><td>0.8007762</td><td>45365</td><td>238.8329</td><td>0.7829978</td><td>0.9875455</td><td>0.8873001</td><td>0.7723208</td><td>0.006902689</td><td>0.001514918</td><td>0.5964794</td><td>0.9958524</td></tr>\n",
       "\t<tr><td>SEKER   </td><td>41033</td><td> 730.988</td><td>249.9321</td><td>209.3633</td><td>1.193772</td><td>0.5461603</td><td>41380</td><td>228.5713</td><td>0.7594063</td><td>0.9916143</td><td>0.9649896</td><td>0.9145335</td><td>0.006091003</td><td>0.002628252</td><td>0.8363715</td><td>0.9984371</td></tr>\n",
       "\t<tr><td>SIRA    </td><td>43550</td><td> 790.199</td><td>306.3924</td><td>181.5248</td><td>1.687882</td><td>0.8056009</td><td>44001</td><td>235.4773</td><td>0.7828228</td><td>0.9897502</td><td>0.8764458</td><td>0.7685482</td><td>0.007035418</td><td>0.001514098</td><td>0.5906663</td><td>0.9969748</td></tr>\n",
       "\t<tr><td>SEKER   </td><td>45738</td><td> 786.456</td><td>290.0633</td><td>201.2120</td><td>1.441580</td><td>0.7202803</td><td>46160</td><td>241.3202</td><td>0.7455986</td><td>0.9908579</td><td>0.9292620</td><td>0.8319570</td><td>0.006341845</td><td>0.001874126</td><td>0.6921524</td><td>0.9977933</td></tr>\n",
       "\t<tr><td>DERMASON</td><td>32996</td><td> 662.061</td><td>235.1357</td><td>179.2509</td><td>1.311769</td><td>0.6471891</td><td>33385</td><td>204.9678</td><td>0.8080917</td><td>0.9883481</td><td>0.9459652</td><td>0.8717003</td><td>0.007126187</td><td>0.002538083</td><td>0.7598614</td><td>0.9967624</td></tr>\n",
       "\t<tr><td>SIRA    </td><td>52464</td><td> 862.895</td><td>330.9088</td><td>202.9529</td><td>1.630470</td><td>0.7898346</td><td>52899</td><td>258.4555</td><td>0.7485233</td><td>0.9917768</td><td>0.8854323</td><td>0.7810476</td><td>0.006307349</td><td>0.001447893</td><td>0.6100353</td><td>0.9946445</td></tr>\n",
       "\t<tr><td>SIRA    </td><td>42263</td><td> 770.713</td><td>286.8278</td><td>189.5661</td><td>1.513076</td><td>0.7504692</td><td>42902</td><td>231.9718</td><td>0.7779659</td><td>0.9851056</td><td>0.8940974</td><td>0.8087494</td><td>0.006786735</td><td>0.001791004</td><td>0.6540756</td><td>0.9896659</td></tr>\n",
       "\t<tr><td>SEKER   </td><td>39883</td><td> 729.422</td><td>245.9412</td><td>206.7586</td><td>1.189509</td><td>0.5415279</td><td>40302</td><td>225.3455</td><td>0.7575119</td><td>0.9896035</td><td>0.9419763</td><td>0.9162577</td><td>0.006166568</td><td>0.002680981</td><td>0.8395281</td><td>0.9986265</td></tr>\n",
       "\t<tr><td>SIRA    </td><td>45370</td><td> 811.372</td><td>303.6382</td><td>190.8970</td><td>1.590587</td><td>0.7776489</td><td>45998</td><td>240.3474</td><td>0.7127372</td><td>0.9863472</td><td>0.8660413</td><td>0.7915586</td><td>0.006692488</td><td>0.001620689</td><td>0.6265650</td><td>0.9966060</td></tr>\n",
       "\t<tr><td>SEKER   </td><td>38542</td><td> 723.764</td><td>254.7116</td><td>192.9009</td><td>1.320427</td><td>0.6530315</td><td>38941</td><td>221.5247</td><td>0.7865714</td><td>0.9897537</td><td>0.9245921</td><td>0.8697080</td><td>0.006608676</td><td>0.002332320</td><td>0.7563920</td><td>0.9987605</td></tr>\n",
       "\t<tr><td>SIRA    </td><td>44278</td><td> 776.522</td><td>279.8073</td><td>201.8911</td><td>1.385932</td><td>0.6923769</td><td>44719</td><td>237.4374</td><td>0.7199675</td><td>0.9901384</td><td>0.9227633</td><td>0.8485744</td><td>0.006319331</td><td>0.002021206</td><td>0.7200786</td><td>0.9979800</td></tr>\n",
       "\t<tr><td>SIRA    </td><td>40253</td><td> 769.301</td><td>290.2108</td><td>177.4861</td><td>1.635118</td><td>0.7911853</td><td>40881</td><td>226.3884</td><td>0.7305975</td><td>0.9846383</td><td>0.8547036</td><td>0.7800827</td><td>0.007209668</td><td>0.001646864</td><td>0.6085290</td><td>0.9950169</td></tr>\n",
       "\t<tr><td>HOROZ   </td><td>48228</td><td> 892.189</td><td>371.1772</td><td>167.7098</td><td>2.213212</td><td>0.8921030</td><td>48904</td><td>247.8019</td><td>0.6505868</td><td>0.9861770</td><td>0.7613693</td><td>0.6676108</td><td>0.007696302</td><td>0.000943094</td><td>0.4457041</td><td>0.9864376</td></tr>\n",
       "\t<tr><td>HOROZ   </td><td>54312</td><td> 926.030</td><td>385.2343</td><td>180.5710</td><td>2.133423</td><td>0.8833413</td><td>54923</td><td>262.9680</td><td>0.6018217</td><td>0.9888753</td><td>0.7958946</td><td>0.6826185</td><td>0.007092986</td><td>0.000949995</td><td>0.4659680</td><td>0.9941069</td></tr>\n",
       "\t<tr><td>DERMASON</td><td>33347</td><td> 666.275</td><td>241.3115</td><td>176.2832</td><td>1.368886</td><td>0.6828901</td><td>33663</td><td>206.0551</td><td>0.7317592</td><td>0.9906128</td><td>0.9439731</td><td>0.8538968</td><td>0.007236379</td><td>0.002373136</td><td>0.7291397</td><td>0.9981090</td></tr>\n",
       "\t<tr><td>CALI    </td><td>80946</td><td>1093.510</td><td>422.8378</td><td>245.3977</td><td>1.723072</td><td>0.8143608</td><td>81704</td><td>321.0353</td><td>0.6782805</td><td>0.9907226</td><td>0.8506673</td><td>0.7592398</td><td>0.005223702</td><td>0.001070715</td><td>0.5764450</td><td>0.9932561</td></tr>\n",
       "\t<tr><td>DERMASON</td><td>28954</td><td> 637.481</td><td>234.5515</td><td>157.4785</td><td>1.489419</td><td>0.7410926</td><td>29349</td><td>192.0036</td><td>0.7798427</td><td>0.9865413</td><td>0.8953317</td><td>0.8185989</td><td>0.008100832</td><td>0.002243851</td><td>0.6701042</td><td>0.9980657</td></tr>\n",
       "\t<tr><td>⋮</td><td>⋮</td><td>⋮</td><td>⋮</td><td>⋮</td><td>⋮</td><td>⋮</td><td>⋮</td><td>⋮</td><td>⋮</td><td>⋮</td><td>⋮</td><td>⋮</td><td>⋮</td><td>⋮</td><td>⋮</td><td>⋮</td></tr>\n",
       "\t<tr><td>SIRA    </td><td>44249</td><td> 799.889</td><td>300.7973</td><td>188.3694</td><td>1.596848</td><td>0.7796353</td><td>44800</td><td>237.3596</td><td>0.8048492</td><td>0.9877009</td><td>0.8690682</td><td>0.7891016</td><td>0.006797832</td><td>0.001625855</td><td>0.6226813</td><td>0.9943272</td></tr>\n",
       "\t<tr><td>HOROZ   </td><td>55388</td><td> 934.878</td><td>385.6247</td><td>184.2763</td><td>2.092644</td><td>0.8784336</td><td>56017</td><td>265.5601</td><td>0.7307124</td><td>0.9887713</td><td>0.7963714</td><td>0.6886492</td><td>0.006962243</td><td>0.000965875</td><td>0.4742377</td><td>0.9924106</td></tr>\n",
       "\t<tr><td>SIRA    </td><td>39753</td><td> 731.257</td><td>269.9169</td><td>187.9505</td><td>1.436106</td><td>0.7177243</td><td>40147</td><td>224.9780</td><td>0.7952668</td><td>0.9901861</td><td>0.9341996</td><td>0.8335083</td><td>0.006789850</td><td>0.002021527</td><td>0.6947361</td><td>0.9977148</td></tr>\n",
       "\t<tr><td>SIRA    </td><td>50090</td><td> 847.229</td><td>327.7834</td><td>195.5280</td><td>1.676401</td><td>0.8026013</td><td>50665</td><td>252.5402</td><td>0.7817035</td><td>0.9886509</td><td>0.8769186</td><td>0.7704484</td><td>0.006543890</td><td>0.001422296</td><td>0.5935907</td><td>0.9950963</td></tr>\n",
       "\t<tr><td>SIRA    </td><td>46827</td><td> 808.608</td><td>300.9675</td><td>198.9589</td><td>1.512712</td><td>0.7503290</td><td>47295</td><td>244.1761</td><td>0.7817660</td><td>0.9901047</td><td>0.8999744</td><td>0.8113041</td><td>0.006427221</td><td>0.001717662</td><td>0.6582143</td><td>0.9956884</td></tr>\n",
       "\t<tr><td>DERMASON</td><td>27320</td><td> 615.902</td><td>232.7768</td><td>149.9210</td><td>1.552663</td><td>0.7649795</td><td>27640</td><td>186.5071</td><td>0.6840946</td><td>0.9884226</td><td>0.9050391</td><td>0.8012271</td><td>0.008520382</td><td>0.002166014</td><td>0.6419648</td><td>0.9967552</td></tr>\n",
       "\t<tr><td>SIRA    </td><td>41110</td><td> 758.986</td><td>288.1748</td><td>182.6692</td><td>1.577577</td><td>0.7734286</td><td>41566</td><td>228.7857</td><td>0.7909572</td><td>0.9890295</td><td>0.8967880</td><td>0.7939127</td><td>0.007009847</td><td>0.001717827</td><td>0.6302974</td><td>0.9943429</td></tr>\n",
       "\t<tr><td>SIRA    </td><td>42711</td><td> 769.073</td><td>289.0851</td><td>188.3828</td><td>1.534562</td><td>0.7585184</td><td>43187</td><td>233.1981</td><td>0.7074637</td><td>0.9889782</td><td>0.9074328</td><td>0.8066763</td><td>0.006768398</td><td>0.001767921</td><td>0.6507266</td><td>0.9985804</td></tr>\n",
       "\t<tr><td>SEKER   </td><td>40736</td><td> 732.691</td><td>249.2940</td><td>208.5599</td><td>1.195311</td><td>0.5478108</td><td>41104</td><td>227.7426</td><td>0.7601418</td><td>0.9910471</td><td>0.9535567</td><td>0.9135502</td><td>0.006119747</td><td>0.002629317</td><td>0.8345740</td><td>0.9975756</td></tr>\n",
       "\t<tr><td>CALI    </td><td>83097</td><td>1138.925</td><td>447.9529</td><td>238.9725</td><td>1.874496</td><td>0.8458147</td><td>83743</td><td>325.2728</td><td>0.7608222</td><td>0.9922859</td><td>0.8050168</td><td>0.7261317</td><td>0.005390722</td><td>0.000924461</td><td>0.5272673</td><td>0.9883602</td></tr>\n",
       "\t<tr><td>SIRA    </td><td>39389</td><td> 745.439</td><td>278.2763</td><td>181.0344</td><td>1.537146</td><td>0.7594581</td><td>39790</td><td>223.9456</td><td>0.8017627</td><td>0.9899221</td><td>0.8907598</td><td>0.8047599</td><td>0.007064823</td><td>0.001827874</td><td>0.6476385</td><td>0.9955150</td></tr>\n",
       "\t<tr><td>SIRA    </td><td>49254</td><td> 845.116</td><td>327.1579</td><td>192.8160</td><td>1.696737</td><td>0.8078656</td><td>49790</td><td>250.4239</td><td>0.6908188</td><td>0.9892348</td><td>0.8666001</td><td>0.7654527</td><td>0.006642261</td><td>0.001406595</td><td>0.5859178</td><td>0.9941482</td></tr>\n",
       "\t<tr><td>DERMASON</td><td>34444</td><td> 686.359</td><td>249.6570</td><td>175.8623</td><td>1.419616</td><td>0.7097875</td><td>34799</td><td>209.4170</td><td>0.7872914</td><td>0.9897986</td><td>0.9187996</td><td>0.8388188</td><td>0.007248199</td><td>0.002213515</td><td>0.7036170</td><td>0.9988659</td></tr>\n",
       "\t<tr><td>CALI    </td><td>77684</td><td>1064.664</td><td>402.2665</td><td>247.6891</td><td>1.624078</td><td>0.7879543</td><td>78407</td><td>314.5001</td><td>0.6823124</td><td>0.9907789</td><td>0.8612244</td><td>0.7818204</td><td>0.005178241</td><td>0.001193411</td><td>0.6112431</td><td>0.9927067</td></tr>\n",
       "\t<tr><td>CALI    </td><td>66441</td><td> 973.541</td><td>376.7013</td><td>227.3108</td><td>1.657208</td><td>0.7974200</td><td>67348</td><td>290.8527</td><td>0.8066948</td><td>0.9865326</td><td>0.8809222</td><td>0.7721044</td><td>0.005669711</td><td>0.001242925</td><td>0.5961452</td><td>0.9879365</td></tr>\n",
       "\t<tr><td>DERMASON</td><td>38009</td><td> 723.162</td><td>267.3713</td><td>181.3335</td><td>1.474473</td><td>0.7348697</td><td>38426</td><td>219.9876</td><td>0.7624980</td><td>0.9891480</td><td>0.9133245</td><td>0.8227794</td><td>0.007034422</td><td>0.001988575</td><td>0.6769660</td><td>0.9981683</td></tr>\n",
       "\t<tr><td>CALI    </td><td>77559</td><td>1070.102</td><td>418.6934</td><td>237.6171</td><td>1.762051</td><td>0.8233593</td><td>78389</td><td>314.2470</td><td>0.7544650</td><td>0.9894118</td><td>0.8511218</td><td>0.7505420</td><td>0.005398386</td><td>0.001056681</td><td>0.5633134</td><td>0.9925868</td></tr>\n",
       "\t<tr><td>SIRA    </td><td>39882</td><td> 773.165</td><td>297.0555</td><td>171.3736</td><td>1.733379</td><td>0.8168093</td><td>40377</td><td>225.3427</td><td>0.6623377</td><td>0.9877405</td><td>0.8383829</td><td>0.7585878</td><td>0.007448361</td><td>0.001521472</td><td>0.5754555</td><td>0.9974827</td></tr>\n",
       "\t<tr><td>SEKER   </td><td>44028</td><td> 768.937</td><td>274.5148</td><td>204.5685</td><td>1.341921</td><td>0.6668409</td><td>44445</td><td>236.7661</td><td>0.7791050</td><td>0.9906176</td><td>0.9357445</td><td>0.8624894</td><td>0.006235005</td><td>0.002128294</td><td>0.7438879</td><td>0.9982392</td></tr>\n",
       "\t<tr><td>SEKER   </td><td>35901</td><td> 684.781</td><td>238.0265</td><td>192.2740</td><td>1.237954</td><td>0.5894783</td><td>36216</td><td>213.8003</td><td>0.7783415</td><td>0.9913022</td><td>0.9620840</td><td>0.8982208</td><td>0.006630079</td><td>0.002662140</td><td>0.8068006</td><td>0.9987823</td></tr>\n",
       "\t<tr><td>SIRA    </td><td>45944</td><td> 799.353</td><td>304.5517</td><td>192.5346</td><td>1.581802</td><td>0.7748132</td><td>46346</td><td>241.8630</td><td>0.7867932</td><td>0.9913261</td><td>0.9035693</td><td>0.7941609</td><td>0.006628758</td><td>0.001626469</td><td>0.6306915</td><td>0.9976293</td></tr>\n",
       "\t<tr><td>DERMASON</td><td>34970</td><td> 698.053</td><td>259.9372</td><td>171.5361</td><td>1.515350</td><td>0.7513414</td><td>35414</td><td>211.0099</td><td>0.7736555</td><td>0.9874626</td><td>0.9018384</td><td>0.8117726</td><td>0.007433149</td><td>0.001991087</td><td>0.6589747</td><td>0.9985772</td></tr>\n",
       "\t<tr><td>DERMASON</td><td>30277</td><td> 637.285</td><td>237.9489</td><td>162.1630</td><td>1.467344</td><td>0.7318147</td><td>30564</td><td>196.3412</td><td>0.7972037</td><td>0.9906099</td><td>0.9368182</td><td>0.8251403</td><td>0.007859065</td><td>0.002247304</td><td>0.6808565</td><td>0.9990504</td></tr>\n",
       "\t<tr><td>SIRA    </td><td>41822</td><td> 764.967</td><td>288.5353</td><td>184.9731</td><td>1.559877</td><td>0.7674772</td><td>42230</td><td>230.7584</td><td>0.7479032</td><td>0.9903386</td><td>0.8981094</td><td>0.7997578</td><td>0.006899127</td><td>0.001741037</td><td>0.6396126</td><td>0.9977170</td></tr>\n",
       "\t<tr><td>SIRA    </td><td>51905</td><td> 951.106</td><td>338.6459</td><td>196.1621</td><td>1.726357</td><td>0.8151468</td><td>52794</td><td>257.0749</td><td>0.7396720</td><td>0.9831610</td><td>0.7210431</td><td>0.7591259</td><td>0.006524341</td><td>0.001336508</td><td>0.5762721</td><td>0.9948515</td></tr>\n",
       "\t<tr><td>DERMASON</td><td>31151</td><td> 667.167</td><td>256.3503</td><td>155.2364</td><td>1.651354</td><td>0.7957968</td><td>31472</td><td>199.1549</td><td>0.7120229</td><td>0.9898005</td><td>0.8794532</td><td>0.7768859</td><td>0.008229279</td><td>0.001849143</td><td>0.6035518</td><td>0.9966776</td></tr>\n",
       "\t<tr><td>SEKER   </td><td>36864</td><td> 698.915</td><td>248.7781</td><td>188.8261</td><td>1.317498</td><td>0.6510740</td><td>37195</td><td>216.6488</td><td>0.7466278</td><td>0.9911010</td><td>0.9483390</td><td>0.8708515</td><td>0.006748538</td><td>0.002394230</td><td>0.7583824</td><td>0.9991675</td></tr>\n",
       "\t<tr><td>SIRA    </td><td>44693</td><td> 807.608</td><td>296.4136</td><td>192.9371</td><td>1.536322</td><td>0.7591591</td><td>45329</td><td>238.5475</td><td>0.7069216</td><td>0.9859692</td><td>0.8610892</td><td>0.8047791</td><td>0.006632215</td><td>0.001716110</td><td>0.6476695</td><td>0.9950290</td></tr>\n",
       "\t<tr><td>SIRA    </td><td>41393</td><td> 773.164</td><td>293.4592</td><td>180.2158</td><td>1.628377</td><td>0.7892216</td><td>41883</td><td>229.5718</td><td>0.7116234</td><td>0.9883007</td><td>0.8701488</td><td>0.7822954</td><td>0.007089585</td><td>0.001637886</td><td>0.6119861</td><td>0.9965438</td></tr>\n",
       "\t<tr><td>SEKER   </td><td>45993</td><td> 775.581</td><td>260.7371</td><td>224.9752</td><td>1.158959</td><td>0.5054717</td><td>46415</td><td>241.9920</td><td>0.7735767</td><td>0.9909081</td><td>0.9608316</td><td>0.9281073</td><td>0.005669060</td><td>0.002594678</td><td>0.8613831</td><td>0.9983078</td></tr>\n",
       "</tbody>\n",
       "</table>\n"
      ],
      "text/latex": [
       "A tibble: 1361 × 17\n",
       "\\begin{tabular}{lllllllllllllllll}\n",
       " Class & Area & Perimeter & MajorAxisLength & MinorAxisLength & AspectRation & Eccentricity & ConvexArea & EquivDiameter & Extent & Solidity & roundness & Compactness & ShapeFactor1 & ShapeFactor2 & ShapeFactor3 & ShapeFactor4\\\\\n",
       " <fct> & <dbl> & <dbl> & <dbl> & <dbl> & <dbl> & <dbl> & <dbl> & <dbl> & <dbl> & <dbl> & <dbl> & <dbl> & <dbl> & <dbl> & <dbl> & <dbl>\\\\\n",
       "\\hline\n",
       "\t SEKER    & 39192 &  709.658 & 242.1603 & 206.3863 & 1.173336 & 0.5231003 & 39464 & 223.3849 & 0.7829787 & 0.9931076 & 0.9779330 & 0.9224669 & 0.006178820 & 0.002759869 & 0.8509452 & 0.9984442\\\\\n",
       "\t SIRA     & 41191 &  776.063 & 282.0423 & 186.4416 & 1.512765 & 0.7503496 & 41770 & 229.0109 & 0.7909178 & 0.9861384 & 0.8594453 & 0.8119737 & 0.006847183 & 0.001835944 & 0.6593012 & 0.9973678\\\\\n",
       "\t CALI     & 75990 & 1047.960 & 409.9497 & 237.5924 & 1.725432 & 0.8149261 & 76906 & 311.0522 & 0.6974439 & 0.9880894 & 0.8695146 & 0.7587570 & 0.005394785 & 0.001102973 & 0.5757122 & 0.9933525\\\\\n",
       "\t DERMASON & 25765 &  593.281 & 220.5953 & 149.0794 & 1.479717 & 0.7370804 & 26038 & 181.1216 & 0.7074992 & 0.9895153 & 0.9198545 & 0.8210580 & 0.008561821 & 0.002400166 & 0.6741362 & 0.9975306\\\\\n",
       "\t DERMASON & 38374 &  742.778 & 272.2549 & 180.2853 & 1.510134 & 0.7493335 & 38852 & 221.0414 & 0.7164408 & 0.9876969 & 0.8740351 & 0.8118912 & 0.007094776 & 0.001901559 & 0.6591674 & 0.9954311\\\\\n",
       "\t SIRA     & 49946 &  836.653 & 309.7137 & 205.5396 & 1.506832 & 0.7480485 & 50482 & 252.1770 & 0.7809676 & 0.9893824 & 0.8966436 & 0.8142262 & 0.006200970 & 0.001681201 & 0.6629643 & 0.9989756\\\\\n",
       "\t DERMASON & 35742 &  715.642 & 271.8202 & 168.9011 & 1.609346 & 0.7835169 & 36323 & 213.3263 & 0.8024697 & 0.9840046 & 0.8769949 & 0.7848067 & 0.007605065 & 0.001779646 & 0.6159216 & 0.9912308\\\\\n",
       "\t DERMASON & 26707 &  606.667 & 228.2436 & 149.4176 & 1.527555 & 0.7559399 & 26985 & 184.4028 & 0.7861474 & 0.9896980 & 0.9118727 & 0.8079212 & 0.008546209 & 0.002246101 & 0.6527367 & 0.9970911\\\\\n",
       "\t SIRA     & 43317 &  778.174 & 289.8818 & 190.6852 & 1.520211 & 0.7531897 & 43794 & 234.8466 & 0.7352831 & 0.9891081 & 0.8989071 & 0.8101460 & 0.006692102 & 0.001778261 & 0.6563366 & 0.9977702\\\\\n",
       "\t CALI     & 64930 &  990.342 & 377.2082 & 220.6749 & 1.709339 & 0.8110179 & 65973 & 287.5264 & 0.7452938 & 0.9841905 & 0.8319263 & 0.7622485 & 0.005809460 & 0.001209767 & 0.5810228 & 0.9931651\\\\\n",
       "\t DERMASON & 40720 &  762.940 & 299.9817 & 173.5539 & 1.728464 & 0.8156481 & 41121 & 227.6979 & 0.7941492 & 0.9902483 & 0.8790971 & 0.7590393 & 0.007366937 & 0.001508425 & 0.5761406 & 0.9958383\\\\\n",
       "\t DERMASON & 30907 &  655.571 & 247.9195 & 159.0074 & 1.559170 & 0.7672342 & 31252 & 198.3734 & 0.7464557 & 0.9889607 & 0.9037062 & 0.8001526 & 0.008021467 & 0.002028266 & 0.6402442 & 0.9982492\\\\\n",
       "\t DERMASON & 33554 &  680.837 & 266.1425 & 160.7708 & 1.655416 & 0.7969253 & 33834 & 206.6937 & 0.7431178 & 0.9917243 & 0.9096365 & 0.7766280 & 0.007931766 & 0.001779925 & 0.6031510 & 0.9984657\\\\\n",
       "\t SIRA     & 44800 &  796.542 & 309.2405 & 185.2238 & 1.669550 & 0.8007762 & 45365 & 238.8329 & 0.7829978 & 0.9875455 & 0.8873001 & 0.7723208 & 0.006902689 & 0.001514918 & 0.5964794 & 0.9958524\\\\\n",
       "\t SEKER    & 41033 &  730.988 & 249.9321 & 209.3633 & 1.193772 & 0.5461603 & 41380 & 228.5713 & 0.7594063 & 0.9916143 & 0.9649896 & 0.9145335 & 0.006091003 & 0.002628252 & 0.8363715 & 0.9984371\\\\\n",
       "\t SIRA     & 43550 &  790.199 & 306.3924 & 181.5248 & 1.687882 & 0.8056009 & 44001 & 235.4773 & 0.7828228 & 0.9897502 & 0.8764458 & 0.7685482 & 0.007035418 & 0.001514098 & 0.5906663 & 0.9969748\\\\\n",
       "\t SEKER    & 45738 &  786.456 & 290.0633 & 201.2120 & 1.441580 & 0.7202803 & 46160 & 241.3202 & 0.7455986 & 0.9908579 & 0.9292620 & 0.8319570 & 0.006341845 & 0.001874126 & 0.6921524 & 0.9977933\\\\\n",
       "\t DERMASON & 32996 &  662.061 & 235.1357 & 179.2509 & 1.311769 & 0.6471891 & 33385 & 204.9678 & 0.8080917 & 0.9883481 & 0.9459652 & 0.8717003 & 0.007126187 & 0.002538083 & 0.7598614 & 0.9967624\\\\\n",
       "\t SIRA     & 52464 &  862.895 & 330.9088 & 202.9529 & 1.630470 & 0.7898346 & 52899 & 258.4555 & 0.7485233 & 0.9917768 & 0.8854323 & 0.7810476 & 0.006307349 & 0.001447893 & 0.6100353 & 0.9946445\\\\\n",
       "\t SIRA     & 42263 &  770.713 & 286.8278 & 189.5661 & 1.513076 & 0.7504692 & 42902 & 231.9718 & 0.7779659 & 0.9851056 & 0.8940974 & 0.8087494 & 0.006786735 & 0.001791004 & 0.6540756 & 0.9896659\\\\\n",
       "\t SEKER    & 39883 &  729.422 & 245.9412 & 206.7586 & 1.189509 & 0.5415279 & 40302 & 225.3455 & 0.7575119 & 0.9896035 & 0.9419763 & 0.9162577 & 0.006166568 & 0.002680981 & 0.8395281 & 0.9986265\\\\\n",
       "\t SIRA     & 45370 &  811.372 & 303.6382 & 190.8970 & 1.590587 & 0.7776489 & 45998 & 240.3474 & 0.7127372 & 0.9863472 & 0.8660413 & 0.7915586 & 0.006692488 & 0.001620689 & 0.6265650 & 0.9966060\\\\\n",
       "\t SEKER    & 38542 &  723.764 & 254.7116 & 192.9009 & 1.320427 & 0.6530315 & 38941 & 221.5247 & 0.7865714 & 0.9897537 & 0.9245921 & 0.8697080 & 0.006608676 & 0.002332320 & 0.7563920 & 0.9987605\\\\\n",
       "\t SIRA     & 44278 &  776.522 & 279.8073 & 201.8911 & 1.385932 & 0.6923769 & 44719 & 237.4374 & 0.7199675 & 0.9901384 & 0.9227633 & 0.8485744 & 0.006319331 & 0.002021206 & 0.7200786 & 0.9979800\\\\\n",
       "\t SIRA     & 40253 &  769.301 & 290.2108 & 177.4861 & 1.635118 & 0.7911853 & 40881 & 226.3884 & 0.7305975 & 0.9846383 & 0.8547036 & 0.7800827 & 0.007209668 & 0.001646864 & 0.6085290 & 0.9950169\\\\\n",
       "\t HOROZ    & 48228 &  892.189 & 371.1772 & 167.7098 & 2.213212 & 0.8921030 & 48904 & 247.8019 & 0.6505868 & 0.9861770 & 0.7613693 & 0.6676108 & 0.007696302 & 0.000943094 & 0.4457041 & 0.9864376\\\\\n",
       "\t HOROZ    & 54312 &  926.030 & 385.2343 & 180.5710 & 2.133423 & 0.8833413 & 54923 & 262.9680 & 0.6018217 & 0.9888753 & 0.7958946 & 0.6826185 & 0.007092986 & 0.000949995 & 0.4659680 & 0.9941069\\\\\n",
       "\t DERMASON & 33347 &  666.275 & 241.3115 & 176.2832 & 1.368886 & 0.6828901 & 33663 & 206.0551 & 0.7317592 & 0.9906128 & 0.9439731 & 0.8538968 & 0.007236379 & 0.002373136 & 0.7291397 & 0.9981090\\\\\n",
       "\t CALI     & 80946 & 1093.510 & 422.8378 & 245.3977 & 1.723072 & 0.8143608 & 81704 & 321.0353 & 0.6782805 & 0.9907226 & 0.8506673 & 0.7592398 & 0.005223702 & 0.001070715 & 0.5764450 & 0.9932561\\\\\n",
       "\t DERMASON & 28954 &  637.481 & 234.5515 & 157.4785 & 1.489419 & 0.7410926 & 29349 & 192.0036 & 0.7798427 & 0.9865413 & 0.8953317 & 0.8185989 & 0.008100832 & 0.002243851 & 0.6701042 & 0.9980657\\\\\n",
       "\t ⋮ & ⋮ & ⋮ & ⋮ & ⋮ & ⋮ & ⋮ & ⋮ & ⋮ & ⋮ & ⋮ & ⋮ & ⋮ & ⋮ & ⋮ & ⋮ & ⋮\\\\\n",
       "\t SIRA     & 44249 &  799.889 & 300.7973 & 188.3694 & 1.596848 & 0.7796353 & 44800 & 237.3596 & 0.8048492 & 0.9877009 & 0.8690682 & 0.7891016 & 0.006797832 & 0.001625855 & 0.6226813 & 0.9943272\\\\\n",
       "\t HOROZ    & 55388 &  934.878 & 385.6247 & 184.2763 & 2.092644 & 0.8784336 & 56017 & 265.5601 & 0.7307124 & 0.9887713 & 0.7963714 & 0.6886492 & 0.006962243 & 0.000965875 & 0.4742377 & 0.9924106\\\\\n",
       "\t SIRA     & 39753 &  731.257 & 269.9169 & 187.9505 & 1.436106 & 0.7177243 & 40147 & 224.9780 & 0.7952668 & 0.9901861 & 0.9341996 & 0.8335083 & 0.006789850 & 0.002021527 & 0.6947361 & 0.9977148\\\\\n",
       "\t SIRA     & 50090 &  847.229 & 327.7834 & 195.5280 & 1.676401 & 0.8026013 & 50665 & 252.5402 & 0.7817035 & 0.9886509 & 0.8769186 & 0.7704484 & 0.006543890 & 0.001422296 & 0.5935907 & 0.9950963\\\\\n",
       "\t SIRA     & 46827 &  808.608 & 300.9675 & 198.9589 & 1.512712 & 0.7503290 & 47295 & 244.1761 & 0.7817660 & 0.9901047 & 0.8999744 & 0.8113041 & 0.006427221 & 0.001717662 & 0.6582143 & 0.9956884\\\\\n",
       "\t DERMASON & 27320 &  615.902 & 232.7768 & 149.9210 & 1.552663 & 0.7649795 & 27640 & 186.5071 & 0.6840946 & 0.9884226 & 0.9050391 & 0.8012271 & 0.008520382 & 0.002166014 & 0.6419648 & 0.9967552\\\\\n",
       "\t SIRA     & 41110 &  758.986 & 288.1748 & 182.6692 & 1.577577 & 0.7734286 & 41566 & 228.7857 & 0.7909572 & 0.9890295 & 0.8967880 & 0.7939127 & 0.007009847 & 0.001717827 & 0.6302974 & 0.9943429\\\\\n",
       "\t SIRA     & 42711 &  769.073 & 289.0851 & 188.3828 & 1.534562 & 0.7585184 & 43187 & 233.1981 & 0.7074637 & 0.9889782 & 0.9074328 & 0.8066763 & 0.006768398 & 0.001767921 & 0.6507266 & 0.9985804\\\\\n",
       "\t SEKER    & 40736 &  732.691 & 249.2940 & 208.5599 & 1.195311 & 0.5478108 & 41104 & 227.7426 & 0.7601418 & 0.9910471 & 0.9535567 & 0.9135502 & 0.006119747 & 0.002629317 & 0.8345740 & 0.9975756\\\\\n",
       "\t CALI     & 83097 & 1138.925 & 447.9529 & 238.9725 & 1.874496 & 0.8458147 & 83743 & 325.2728 & 0.7608222 & 0.9922859 & 0.8050168 & 0.7261317 & 0.005390722 & 0.000924461 & 0.5272673 & 0.9883602\\\\\n",
       "\t SIRA     & 39389 &  745.439 & 278.2763 & 181.0344 & 1.537146 & 0.7594581 & 39790 & 223.9456 & 0.8017627 & 0.9899221 & 0.8907598 & 0.8047599 & 0.007064823 & 0.001827874 & 0.6476385 & 0.9955150\\\\\n",
       "\t SIRA     & 49254 &  845.116 & 327.1579 & 192.8160 & 1.696737 & 0.8078656 & 49790 & 250.4239 & 0.6908188 & 0.9892348 & 0.8666001 & 0.7654527 & 0.006642261 & 0.001406595 & 0.5859178 & 0.9941482\\\\\n",
       "\t DERMASON & 34444 &  686.359 & 249.6570 & 175.8623 & 1.419616 & 0.7097875 & 34799 & 209.4170 & 0.7872914 & 0.9897986 & 0.9187996 & 0.8388188 & 0.007248199 & 0.002213515 & 0.7036170 & 0.9988659\\\\\n",
       "\t CALI     & 77684 & 1064.664 & 402.2665 & 247.6891 & 1.624078 & 0.7879543 & 78407 & 314.5001 & 0.6823124 & 0.9907789 & 0.8612244 & 0.7818204 & 0.005178241 & 0.001193411 & 0.6112431 & 0.9927067\\\\\n",
       "\t CALI     & 66441 &  973.541 & 376.7013 & 227.3108 & 1.657208 & 0.7974200 & 67348 & 290.8527 & 0.8066948 & 0.9865326 & 0.8809222 & 0.7721044 & 0.005669711 & 0.001242925 & 0.5961452 & 0.9879365\\\\\n",
       "\t DERMASON & 38009 &  723.162 & 267.3713 & 181.3335 & 1.474473 & 0.7348697 & 38426 & 219.9876 & 0.7624980 & 0.9891480 & 0.9133245 & 0.8227794 & 0.007034422 & 0.001988575 & 0.6769660 & 0.9981683\\\\\n",
       "\t CALI     & 77559 & 1070.102 & 418.6934 & 237.6171 & 1.762051 & 0.8233593 & 78389 & 314.2470 & 0.7544650 & 0.9894118 & 0.8511218 & 0.7505420 & 0.005398386 & 0.001056681 & 0.5633134 & 0.9925868\\\\\n",
       "\t SIRA     & 39882 &  773.165 & 297.0555 & 171.3736 & 1.733379 & 0.8168093 & 40377 & 225.3427 & 0.6623377 & 0.9877405 & 0.8383829 & 0.7585878 & 0.007448361 & 0.001521472 & 0.5754555 & 0.9974827\\\\\n",
       "\t SEKER    & 44028 &  768.937 & 274.5148 & 204.5685 & 1.341921 & 0.6668409 & 44445 & 236.7661 & 0.7791050 & 0.9906176 & 0.9357445 & 0.8624894 & 0.006235005 & 0.002128294 & 0.7438879 & 0.9982392\\\\\n",
       "\t SEKER    & 35901 &  684.781 & 238.0265 & 192.2740 & 1.237954 & 0.5894783 & 36216 & 213.8003 & 0.7783415 & 0.9913022 & 0.9620840 & 0.8982208 & 0.006630079 & 0.002662140 & 0.8068006 & 0.9987823\\\\\n",
       "\t SIRA     & 45944 &  799.353 & 304.5517 & 192.5346 & 1.581802 & 0.7748132 & 46346 & 241.8630 & 0.7867932 & 0.9913261 & 0.9035693 & 0.7941609 & 0.006628758 & 0.001626469 & 0.6306915 & 0.9976293\\\\\n",
       "\t DERMASON & 34970 &  698.053 & 259.9372 & 171.5361 & 1.515350 & 0.7513414 & 35414 & 211.0099 & 0.7736555 & 0.9874626 & 0.9018384 & 0.8117726 & 0.007433149 & 0.001991087 & 0.6589747 & 0.9985772\\\\\n",
       "\t DERMASON & 30277 &  637.285 & 237.9489 & 162.1630 & 1.467344 & 0.7318147 & 30564 & 196.3412 & 0.7972037 & 0.9906099 & 0.9368182 & 0.8251403 & 0.007859065 & 0.002247304 & 0.6808565 & 0.9990504\\\\\n",
       "\t SIRA     & 41822 &  764.967 & 288.5353 & 184.9731 & 1.559877 & 0.7674772 & 42230 & 230.7584 & 0.7479032 & 0.9903386 & 0.8981094 & 0.7997578 & 0.006899127 & 0.001741037 & 0.6396126 & 0.9977170\\\\\n",
       "\t SIRA     & 51905 &  951.106 & 338.6459 & 196.1621 & 1.726357 & 0.8151468 & 52794 & 257.0749 & 0.7396720 & 0.9831610 & 0.7210431 & 0.7591259 & 0.006524341 & 0.001336508 & 0.5762721 & 0.9948515\\\\\n",
       "\t DERMASON & 31151 &  667.167 & 256.3503 & 155.2364 & 1.651354 & 0.7957968 & 31472 & 199.1549 & 0.7120229 & 0.9898005 & 0.8794532 & 0.7768859 & 0.008229279 & 0.001849143 & 0.6035518 & 0.9966776\\\\\n",
       "\t SEKER    & 36864 &  698.915 & 248.7781 & 188.8261 & 1.317498 & 0.6510740 & 37195 & 216.6488 & 0.7466278 & 0.9911010 & 0.9483390 & 0.8708515 & 0.006748538 & 0.002394230 & 0.7583824 & 0.9991675\\\\\n",
       "\t SIRA     & 44693 &  807.608 & 296.4136 & 192.9371 & 1.536322 & 0.7591591 & 45329 & 238.5475 & 0.7069216 & 0.9859692 & 0.8610892 & 0.8047791 & 0.006632215 & 0.001716110 & 0.6476695 & 0.9950290\\\\\n",
       "\t SIRA     & 41393 &  773.164 & 293.4592 & 180.2158 & 1.628377 & 0.7892216 & 41883 & 229.5718 & 0.7116234 & 0.9883007 & 0.8701488 & 0.7822954 & 0.007089585 & 0.001637886 & 0.6119861 & 0.9965438\\\\\n",
       "\t SEKER    & 45993 &  775.581 & 260.7371 & 224.9752 & 1.158959 & 0.5054717 & 46415 & 241.9920 & 0.7735767 & 0.9909081 & 0.9608316 & 0.9281073 & 0.005669060 & 0.002594678 & 0.8613831 & 0.9983078\\\\\n",
       "\\end{tabular}\n"
      ],
      "text/markdown": [
       "\n",
       "A tibble: 1361 × 17\n",
       "\n",
       "| Class &lt;fct&gt; | Area &lt;dbl&gt; | Perimeter &lt;dbl&gt; | MajorAxisLength &lt;dbl&gt; | MinorAxisLength &lt;dbl&gt; | AspectRation &lt;dbl&gt; | Eccentricity &lt;dbl&gt; | ConvexArea &lt;dbl&gt; | EquivDiameter &lt;dbl&gt; | Extent &lt;dbl&gt; | Solidity &lt;dbl&gt; | roundness &lt;dbl&gt; | Compactness &lt;dbl&gt; | ShapeFactor1 &lt;dbl&gt; | ShapeFactor2 &lt;dbl&gt; | ShapeFactor3 &lt;dbl&gt; | ShapeFactor4 &lt;dbl&gt; |\n",
       "|---|---|---|---|---|---|---|---|---|---|---|---|---|---|---|---|---|\n",
       "| SEKER    | 39192 |  709.658 | 242.1603 | 206.3863 | 1.173336 | 0.5231003 | 39464 | 223.3849 | 0.7829787 | 0.9931076 | 0.9779330 | 0.9224669 | 0.006178820 | 0.002759869 | 0.8509452 | 0.9984442 |\n",
       "| SIRA     | 41191 |  776.063 | 282.0423 | 186.4416 | 1.512765 | 0.7503496 | 41770 | 229.0109 | 0.7909178 | 0.9861384 | 0.8594453 | 0.8119737 | 0.006847183 | 0.001835944 | 0.6593012 | 0.9973678 |\n",
       "| CALI     | 75990 | 1047.960 | 409.9497 | 237.5924 | 1.725432 | 0.8149261 | 76906 | 311.0522 | 0.6974439 | 0.9880894 | 0.8695146 | 0.7587570 | 0.005394785 | 0.001102973 | 0.5757122 | 0.9933525 |\n",
       "| DERMASON | 25765 |  593.281 | 220.5953 | 149.0794 | 1.479717 | 0.7370804 | 26038 | 181.1216 | 0.7074992 | 0.9895153 | 0.9198545 | 0.8210580 | 0.008561821 | 0.002400166 | 0.6741362 | 0.9975306 |\n",
       "| DERMASON | 38374 |  742.778 | 272.2549 | 180.2853 | 1.510134 | 0.7493335 | 38852 | 221.0414 | 0.7164408 | 0.9876969 | 0.8740351 | 0.8118912 | 0.007094776 | 0.001901559 | 0.6591674 | 0.9954311 |\n",
       "| SIRA     | 49946 |  836.653 | 309.7137 | 205.5396 | 1.506832 | 0.7480485 | 50482 | 252.1770 | 0.7809676 | 0.9893824 | 0.8966436 | 0.8142262 | 0.006200970 | 0.001681201 | 0.6629643 | 0.9989756 |\n",
       "| DERMASON | 35742 |  715.642 | 271.8202 | 168.9011 | 1.609346 | 0.7835169 | 36323 | 213.3263 | 0.8024697 | 0.9840046 | 0.8769949 | 0.7848067 | 0.007605065 | 0.001779646 | 0.6159216 | 0.9912308 |\n",
       "| DERMASON | 26707 |  606.667 | 228.2436 | 149.4176 | 1.527555 | 0.7559399 | 26985 | 184.4028 | 0.7861474 | 0.9896980 | 0.9118727 | 0.8079212 | 0.008546209 | 0.002246101 | 0.6527367 | 0.9970911 |\n",
       "| SIRA     | 43317 |  778.174 | 289.8818 | 190.6852 | 1.520211 | 0.7531897 | 43794 | 234.8466 | 0.7352831 | 0.9891081 | 0.8989071 | 0.8101460 | 0.006692102 | 0.001778261 | 0.6563366 | 0.9977702 |\n",
       "| CALI     | 64930 |  990.342 | 377.2082 | 220.6749 | 1.709339 | 0.8110179 | 65973 | 287.5264 | 0.7452938 | 0.9841905 | 0.8319263 | 0.7622485 | 0.005809460 | 0.001209767 | 0.5810228 | 0.9931651 |\n",
       "| DERMASON | 40720 |  762.940 | 299.9817 | 173.5539 | 1.728464 | 0.8156481 | 41121 | 227.6979 | 0.7941492 | 0.9902483 | 0.8790971 | 0.7590393 | 0.007366937 | 0.001508425 | 0.5761406 | 0.9958383 |\n",
       "| DERMASON | 30907 |  655.571 | 247.9195 | 159.0074 | 1.559170 | 0.7672342 | 31252 | 198.3734 | 0.7464557 | 0.9889607 | 0.9037062 | 0.8001526 | 0.008021467 | 0.002028266 | 0.6402442 | 0.9982492 |\n",
       "| DERMASON | 33554 |  680.837 | 266.1425 | 160.7708 | 1.655416 | 0.7969253 | 33834 | 206.6937 | 0.7431178 | 0.9917243 | 0.9096365 | 0.7766280 | 0.007931766 | 0.001779925 | 0.6031510 | 0.9984657 |\n",
       "| SIRA     | 44800 |  796.542 | 309.2405 | 185.2238 | 1.669550 | 0.8007762 | 45365 | 238.8329 | 0.7829978 | 0.9875455 | 0.8873001 | 0.7723208 | 0.006902689 | 0.001514918 | 0.5964794 | 0.9958524 |\n",
       "| SEKER    | 41033 |  730.988 | 249.9321 | 209.3633 | 1.193772 | 0.5461603 | 41380 | 228.5713 | 0.7594063 | 0.9916143 | 0.9649896 | 0.9145335 | 0.006091003 | 0.002628252 | 0.8363715 | 0.9984371 |\n",
       "| SIRA     | 43550 |  790.199 | 306.3924 | 181.5248 | 1.687882 | 0.8056009 | 44001 | 235.4773 | 0.7828228 | 0.9897502 | 0.8764458 | 0.7685482 | 0.007035418 | 0.001514098 | 0.5906663 | 0.9969748 |\n",
       "| SEKER    | 45738 |  786.456 | 290.0633 | 201.2120 | 1.441580 | 0.7202803 | 46160 | 241.3202 | 0.7455986 | 0.9908579 | 0.9292620 | 0.8319570 | 0.006341845 | 0.001874126 | 0.6921524 | 0.9977933 |\n",
       "| DERMASON | 32996 |  662.061 | 235.1357 | 179.2509 | 1.311769 | 0.6471891 | 33385 | 204.9678 | 0.8080917 | 0.9883481 | 0.9459652 | 0.8717003 | 0.007126187 | 0.002538083 | 0.7598614 | 0.9967624 |\n",
       "| SIRA     | 52464 |  862.895 | 330.9088 | 202.9529 | 1.630470 | 0.7898346 | 52899 | 258.4555 | 0.7485233 | 0.9917768 | 0.8854323 | 0.7810476 | 0.006307349 | 0.001447893 | 0.6100353 | 0.9946445 |\n",
       "| SIRA     | 42263 |  770.713 | 286.8278 | 189.5661 | 1.513076 | 0.7504692 | 42902 | 231.9718 | 0.7779659 | 0.9851056 | 0.8940974 | 0.8087494 | 0.006786735 | 0.001791004 | 0.6540756 | 0.9896659 |\n",
       "| SEKER    | 39883 |  729.422 | 245.9412 | 206.7586 | 1.189509 | 0.5415279 | 40302 | 225.3455 | 0.7575119 | 0.9896035 | 0.9419763 | 0.9162577 | 0.006166568 | 0.002680981 | 0.8395281 | 0.9986265 |\n",
       "| SIRA     | 45370 |  811.372 | 303.6382 | 190.8970 | 1.590587 | 0.7776489 | 45998 | 240.3474 | 0.7127372 | 0.9863472 | 0.8660413 | 0.7915586 | 0.006692488 | 0.001620689 | 0.6265650 | 0.9966060 |\n",
       "| SEKER    | 38542 |  723.764 | 254.7116 | 192.9009 | 1.320427 | 0.6530315 | 38941 | 221.5247 | 0.7865714 | 0.9897537 | 0.9245921 | 0.8697080 | 0.006608676 | 0.002332320 | 0.7563920 | 0.9987605 |\n",
       "| SIRA     | 44278 |  776.522 | 279.8073 | 201.8911 | 1.385932 | 0.6923769 | 44719 | 237.4374 | 0.7199675 | 0.9901384 | 0.9227633 | 0.8485744 | 0.006319331 | 0.002021206 | 0.7200786 | 0.9979800 |\n",
       "| SIRA     | 40253 |  769.301 | 290.2108 | 177.4861 | 1.635118 | 0.7911853 | 40881 | 226.3884 | 0.7305975 | 0.9846383 | 0.8547036 | 0.7800827 | 0.007209668 | 0.001646864 | 0.6085290 | 0.9950169 |\n",
       "| HOROZ    | 48228 |  892.189 | 371.1772 | 167.7098 | 2.213212 | 0.8921030 | 48904 | 247.8019 | 0.6505868 | 0.9861770 | 0.7613693 | 0.6676108 | 0.007696302 | 0.000943094 | 0.4457041 | 0.9864376 |\n",
       "| HOROZ    | 54312 |  926.030 | 385.2343 | 180.5710 | 2.133423 | 0.8833413 | 54923 | 262.9680 | 0.6018217 | 0.9888753 | 0.7958946 | 0.6826185 | 0.007092986 | 0.000949995 | 0.4659680 | 0.9941069 |\n",
       "| DERMASON | 33347 |  666.275 | 241.3115 | 176.2832 | 1.368886 | 0.6828901 | 33663 | 206.0551 | 0.7317592 | 0.9906128 | 0.9439731 | 0.8538968 | 0.007236379 | 0.002373136 | 0.7291397 | 0.9981090 |\n",
       "| CALI     | 80946 | 1093.510 | 422.8378 | 245.3977 | 1.723072 | 0.8143608 | 81704 | 321.0353 | 0.6782805 | 0.9907226 | 0.8506673 | 0.7592398 | 0.005223702 | 0.001070715 | 0.5764450 | 0.9932561 |\n",
       "| DERMASON | 28954 |  637.481 | 234.5515 | 157.4785 | 1.489419 | 0.7410926 | 29349 | 192.0036 | 0.7798427 | 0.9865413 | 0.8953317 | 0.8185989 | 0.008100832 | 0.002243851 | 0.6701042 | 0.9980657 |\n",
       "| ⋮ | ⋮ | ⋮ | ⋮ | ⋮ | ⋮ | ⋮ | ⋮ | ⋮ | ⋮ | ⋮ | ⋮ | ⋮ | ⋮ | ⋮ | ⋮ | ⋮ |\n",
       "| SIRA     | 44249 |  799.889 | 300.7973 | 188.3694 | 1.596848 | 0.7796353 | 44800 | 237.3596 | 0.8048492 | 0.9877009 | 0.8690682 | 0.7891016 | 0.006797832 | 0.001625855 | 0.6226813 | 0.9943272 |\n",
       "| HOROZ    | 55388 |  934.878 | 385.6247 | 184.2763 | 2.092644 | 0.8784336 | 56017 | 265.5601 | 0.7307124 | 0.9887713 | 0.7963714 | 0.6886492 | 0.006962243 | 0.000965875 | 0.4742377 | 0.9924106 |\n",
       "| SIRA     | 39753 |  731.257 | 269.9169 | 187.9505 | 1.436106 | 0.7177243 | 40147 | 224.9780 | 0.7952668 | 0.9901861 | 0.9341996 | 0.8335083 | 0.006789850 | 0.002021527 | 0.6947361 | 0.9977148 |\n",
       "| SIRA     | 50090 |  847.229 | 327.7834 | 195.5280 | 1.676401 | 0.8026013 | 50665 | 252.5402 | 0.7817035 | 0.9886509 | 0.8769186 | 0.7704484 | 0.006543890 | 0.001422296 | 0.5935907 | 0.9950963 |\n",
       "| SIRA     | 46827 |  808.608 | 300.9675 | 198.9589 | 1.512712 | 0.7503290 | 47295 | 244.1761 | 0.7817660 | 0.9901047 | 0.8999744 | 0.8113041 | 0.006427221 | 0.001717662 | 0.6582143 | 0.9956884 |\n",
       "| DERMASON | 27320 |  615.902 | 232.7768 | 149.9210 | 1.552663 | 0.7649795 | 27640 | 186.5071 | 0.6840946 | 0.9884226 | 0.9050391 | 0.8012271 | 0.008520382 | 0.002166014 | 0.6419648 | 0.9967552 |\n",
       "| SIRA     | 41110 |  758.986 | 288.1748 | 182.6692 | 1.577577 | 0.7734286 | 41566 | 228.7857 | 0.7909572 | 0.9890295 | 0.8967880 | 0.7939127 | 0.007009847 | 0.001717827 | 0.6302974 | 0.9943429 |\n",
       "| SIRA     | 42711 |  769.073 | 289.0851 | 188.3828 | 1.534562 | 0.7585184 | 43187 | 233.1981 | 0.7074637 | 0.9889782 | 0.9074328 | 0.8066763 | 0.006768398 | 0.001767921 | 0.6507266 | 0.9985804 |\n",
       "| SEKER    | 40736 |  732.691 | 249.2940 | 208.5599 | 1.195311 | 0.5478108 | 41104 | 227.7426 | 0.7601418 | 0.9910471 | 0.9535567 | 0.9135502 | 0.006119747 | 0.002629317 | 0.8345740 | 0.9975756 |\n",
       "| CALI     | 83097 | 1138.925 | 447.9529 | 238.9725 | 1.874496 | 0.8458147 | 83743 | 325.2728 | 0.7608222 | 0.9922859 | 0.8050168 | 0.7261317 | 0.005390722 | 0.000924461 | 0.5272673 | 0.9883602 |\n",
       "| SIRA     | 39389 |  745.439 | 278.2763 | 181.0344 | 1.537146 | 0.7594581 | 39790 | 223.9456 | 0.8017627 | 0.9899221 | 0.8907598 | 0.8047599 | 0.007064823 | 0.001827874 | 0.6476385 | 0.9955150 |\n",
       "| SIRA     | 49254 |  845.116 | 327.1579 | 192.8160 | 1.696737 | 0.8078656 | 49790 | 250.4239 | 0.6908188 | 0.9892348 | 0.8666001 | 0.7654527 | 0.006642261 | 0.001406595 | 0.5859178 | 0.9941482 |\n",
       "| DERMASON | 34444 |  686.359 | 249.6570 | 175.8623 | 1.419616 | 0.7097875 | 34799 | 209.4170 | 0.7872914 | 0.9897986 | 0.9187996 | 0.8388188 | 0.007248199 | 0.002213515 | 0.7036170 | 0.9988659 |\n",
       "| CALI     | 77684 | 1064.664 | 402.2665 | 247.6891 | 1.624078 | 0.7879543 | 78407 | 314.5001 | 0.6823124 | 0.9907789 | 0.8612244 | 0.7818204 | 0.005178241 | 0.001193411 | 0.6112431 | 0.9927067 |\n",
       "| CALI     | 66441 |  973.541 | 376.7013 | 227.3108 | 1.657208 | 0.7974200 | 67348 | 290.8527 | 0.8066948 | 0.9865326 | 0.8809222 | 0.7721044 | 0.005669711 | 0.001242925 | 0.5961452 | 0.9879365 |\n",
       "| DERMASON | 38009 |  723.162 | 267.3713 | 181.3335 | 1.474473 | 0.7348697 | 38426 | 219.9876 | 0.7624980 | 0.9891480 | 0.9133245 | 0.8227794 | 0.007034422 | 0.001988575 | 0.6769660 | 0.9981683 |\n",
       "| CALI     | 77559 | 1070.102 | 418.6934 | 237.6171 | 1.762051 | 0.8233593 | 78389 | 314.2470 | 0.7544650 | 0.9894118 | 0.8511218 | 0.7505420 | 0.005398386 | 0.001056681 | 0.5633134 | 0.9925868 |\n",
       "| SIRA     | 39882 |  773.165 | 297.0555 | 171.3736 | 1.733379 | 0.8168093 | 40377 | 225.3427 | 0.6623377 | 0.9877405 | 0.8383829 | 0.7585878 | 0.007448361 | 0.001521472 | 0.5754555 | 0.9974827 |\n",
       "| SEKER    | 44028 |  768.937 | 274.5148 | 204.5685 | 1.341921 | 0.6668409 | 44445 | 236.7661 | 0.7791050 | 0.9906176 | 0.9357445 | 0.8624894 | 0.006235005 | 0.002128294 | 0.7438879 | 0.9982392 |\n",
       "| SEKER    | 35901 |  684.781 | 238.0265 | 192.2740 | 1.237954 | 0.5894783 | 36216 | 213.8003 | 0.7783415 | 0.9913022 | 0.9620840 | 0.8982208 | 0.006630079 | 0.002662140 | 0.8068006 | 0.9987823 |\n",
       "| SIRA     | 45944 |  799.353 | 304.5517 | 192.5346 | 1.581802 | 0.7748132 | 46346 | 241.8630 | 0.7867932 | 0.9913261 | 0.9035693 | 0.7941609 | 0.006628758 | 0.001626469 | 0.6306915 | 0.9976293 |\n",
       "| DERMASON | 34970 |  698.053 | 259.9372 | 171.5361 | 1.515350 | 0.7513414 | 35414 | 211.0099 | 0.7736555 | 0.9874626 | 0.9018384 | 0.8117726 | 0.007433149 | 0.001991087 | 0.6589747 | 0.9985772 |\n",
       "| DERMASON | 30277 |  637.285 | 237.9489 | 162.1630 | 1.467344 | 0.7318147 | 30564 | 196.3412 | 0.7972037 | 0.9906099 | 0.9368182 | 0.8251403 | 0.007859065 | 0.002247304 | 0.6808565 | 0.9990504 |\n",
       "| SIRA     | 41822 |  764.967 | 288.5353 | 184.9731 | 1.559877 | 0.7674772 | 42230 | 230.7584 | 0.7479032 | 0.9903386 | 0.8981094 | 0.7997578 | 0.006899127 | 0.001741037 | 0.6396126 | 0.9977170 |\n",
       "| SIRA     | 51905 |  951.106 | 338.6459 | 196.1621 | 1.726357 | 0.8151468 | 52794 | 257.0749 | 0.7396720 | 0.9831610 | 0.7210431 | 0.7591259 | 0.006524341 | 0.001336508 | 0.5762721 | 0.9948515 |\n",
       "| DERMASON | 31151 |  667.167 | 256.3503 | 155.2364 | 1.651354 | 0.7957968 | 31472 | 199.1549 | 0.7120229 | 0.9898005 | 0.8794532 | 0.7768859 | 0.008229279 | 0.001849143 | 0.6035518 | 0.9966776 |\n",
       "| SEKER    | 36864 |  698.915 | 248.7781 | 188.8261 | 1.317498 | 0.6510740 | 37195 | 216.6488 | 0.7466278 | 0.9911010 | 0.9483390 | 0.8708515 | 0.006748538 | 0.002394230 | 0.7583824 | 0.9991675 |\n",
       "| SIRA     | 44693 |  807.608 | 296.4136 | 192.9371 | 1.536322 | 0.7591591 | 45329 | 238.5475 | 0.7069216 | 0.9859692 | 0.8610892 | 0.8047791 | 0.006632215 | 0.001716110 | 0.6476695 | 0.9950290 |\n",
       "| SIRA     | 41393 |  773.164 | 293.4592 | 180.2158 | 1.628377 | 0.7892216 | 41883 | 229.5718 | 0.7116234 | 0.9883007 | 0.8701488 | 0.7822954 | 0.007089585 | 0.001637886 | 0.6119861 | 0.9965438 |\n",
       "| SEKER    | 45993 |  775.581 | 260.7371 | 224.9752 | 1.158959 | 0.5054717 | 46415 | 241.9920 | 0.7735767 | 0.9909081 | 0.9608316 | 0.9281073 | 0.005669060 | 0.002594678 | 0.8613831 | 0.9983078 |\n",
       "\n"
      ],
      "text/plain": [
       "     Class    Area  Perimeter MajorAxisLength MinorAxisLength AspectRation\n",
       "1    SEKER    39192  709.658  242.1603        206.3863        1.173336    \n",
       "2    SIRA     41191  776.063  282.0423        186.4416        1.512765    \n",
       "3    CALI     75990 1047.960  409.9497        237.5924        1.725432    \n",
       "4    DERMASON 25765  593.281  220.5953        149.0794        1.479717    \n",
       "5    DERMASON 38374  742.778  272.2549        180.2853        1.510134    \n",
       "6    SIRA     49946  836.653  309.7137        205.5396        1.506832    \n",
       "7    DERMASON 35742  715.642  271.8202        168.9011        1.609346    \n",
       "8    DERMASON 26707  606.667  228.2436        149.4176        1.527555    \n",
       "9    SIRA     43317  778.174  289.8818        190.6852        1.520211    \n",
       "10   CALI     64930  990.342  377.2082        220.6749        1.709339    \n",
       "11   DERMASON 40720  762.940  299.9817        173.5539        1.728464    \n",
       "12   DERMASON 30907  655.571  247.9195        159.0074        1.559170    \n",
       "13   DERMASON 33554  680.837  266.1425        160.7708        1.655416    \n",
       "14   SIRA     44800  796.542  309.2405        185.2238        1.669550    \n",
       "15   SEKER    41033  730.988  249.9321        209.3633        1.193772    \n",
       "16   SIRA     43550  790.199  306.3924        181.5248        1.687882    \n",
       "17   SEKER    45738  786.456  290.0633        201.2120        1.441580    \n",
       "18   DERMASON 32996  662.061  235.1357        179.2509        1.311769    \n",
       "19   SIRA     52464  862.895  330.9088        202.9529        1.630470    \n",
       "20   SIRA     42263  770.713  286.8278        189.5661        1.513076    \n",
       "21   SEKER    39883  729.422  245.9412        206.7586        1.189509    \n",
       "22   SIRA     45370  811.372  303.6382        190.8970        1.590587    \n",
       "23   SEKER    38542  723.764  254.7116        192.9009        1.320427    \n",
       "24   SIRA     44278  776.522  279.8073        201.8911        1.385932    \n",
       "25   SIRA     40253  769.301  290.2108        177.4861        1.635118    \n",
       "26   HOROZ    48228  892.189  371.1772        167.7098        2.213212    \n",
       "27   HOROZ    54312  926.030  385.2343        180.5710        2.133423    \n",
       "28   DERMASON 33347  666.275  241.3115        176.2832        1.368886    \n",
       "29   CALI     80946 1093.510  422.8378        245.3977        1.723072    \n",
       "30   DERMASON 28954  637.481  234.5515        157.4785        1.489419    \n",
       "⋮    ⋮        ⋮     ⋮         ⋮               ⋮               ⋮           \n",
       "1332 SIRA     44249  799.889  300.7973        188.3694        1.596848    \n",
       "1333 HOROZ    55388  934.878  385.6247        184.2763        2.092644    \n",
       "1334 SIRA     39753  731.257  269.9169        187.9505        1.436106    \n",
       "1335 SIRA     50090  847.229  327.7834        195.5280        1.676401    \n",
       "1336 SIRA     46827  808.608  300.9675        198.9589        1.512712    \n",
       "1337 DERMASON 27320  615.902  232.7768        149.9210        1.552663    \n",
       "1338 SIRA     41110  758.986  288.1748        182.6692        1.577577    \n",
       "1339 SIRA     42711  769.073  289.0851        188.3828        1.534562    \n",
       "1340 SEKER    40736  732.691  249.2940        208.5599        1.195311    \n",
       "1341 CALI     83097 1138.925  447.9529        238.9725        1.874496    \n",
       "1342 SIRA     39389  745.439  278.2763        181.0344        1.537146    \n",
       "1343 SIRA     49254  845.116  327.1579        192.8160        1.696737    \n",
       "1344 DERMASON 34444  686.359  249.6570        175.8623        1.419616    \n",
       "1345 CALI     77684 1064.664  402.2665        247.6891        1.624078    \n",
       "1346 CALI     66441  973.541  376.7013        227.3108        1.657208    \n",
       "1347 DERMASON 38009  723.162  267.3713        181.3335        1.474473    \n",
       "1348 CALI     77559 1070.102  418.6934        237.6171        1.762051    \n",
       "1349 SIRA     39882  773.165  297.0555        171.3736        1.733379    \n",
       "1350 SEKER    44028  768.937  274.5148        204.5685        1.341921    \n",
       "1351 SEKER    35901  684.781  238.0265        192.2740        1.237954    \n",
       "1352 SIRA     45944  799.353  304.5517        192.5346        1.581802    \n",
       "1353 DERMASON 34970  698.053  259.9372        171.5361        1.515350    \n",
       "1354 DERMASON 30277  637.285  237.9489        162.1630        1.467344    \n",
       "1355 SIRA     41822  764.967  288.5353        184.9731        1.559877    \n",
       "1356 SIRA     51905  951.106  338.6459        196.1621        1.726357    \n",
       "1357 DERMASON 31151  667.167  256.3503        155.2364        1.651354    \n",
       "1358 SEKER    36864  698.915  248.7781        188.8261        1.317498    \n",
       "1359 SIRA     44693  807.608  296.4136        192.9371        1.536322    \n",
       "1360 SIRA     41393  773.164  293.4592        180.2158        1.628377    \n",
       "1361 SEKER    45993  775.581  260.7371        224.9752        1.158959    \n",
       "     Eccentricity ConvexArea EquivDiameter Extent    Solidity  roundness\n",
       "1    0.5231003    39464      223.3849      0.7829787 0.9931076 0.9779330\n",
       "2    0.7503496    41770      229.0109      0.7909178 0.9861384 0.8594453\n",
       "3    0.8149261    76906      311.0522      0.6974439 0.9880894 0.8695146\n",
       "4    0.7370804    26038      181.1216      0.7074992 0.9895153 0.9198545\n",
       "5    0.7493335    38852      221.0414      0.7164408 0.9876969 0.8740351\n",
       "6    0.7480485    50482      252.1770      0.7809676 0.9893824 0.8966436\n",
       "7    0.7835169    36323      213.3263      0.8024697 0.9840046 0.8769949\n",
       "8    0.7559399    26985      184.4028      0.7861474 0.9896980 0.9118727\n",
       "9    0.7531897    43794      234.8466      0.7352831 0.9891081 0.8989071\n",
       "10   0.8110179    65973      287.5264      0.7452938 0.9841905 0.8319263\n",
       "11   0.8156481    41121      227.6979      0.7941492 0.9902483 0.8790971\n",
       "12   0.7672342    31252      198.3734      0.7464557 0.9889607 0.9037062\n",
       "13   0.7969253    33834      206.6937      0.7431178 0.9917243 0.9096365\n",
       "14   0.8007762    45365      238.8329      0.7829978 0.9875455 0.8873001\n",
       "15   0.5461603    41380      228.5713      0.7594063 0.9916143 0.9649896\n",
       "16   0.8056009    44001      235.4773      0.7828228 0.9897502 0.8764458\n",
       "17   0.7202803    46160      241.3202      0.7455986 0.9908579 0.9292620\n",
       "18   0.6471891    33385      204.9678      0.8080917 0.9883481 0.9459652\n",
       "19   0.7898346    52899      258.4555      0.7485233 0.9917768 0.8854323\n",
       "20   0.7504692    42902      231.9718      0.7779659 0.9851056 0.8940974\n",
       "21   0.5415279    40302      225.3455      0.7575119 0.9896035 0.9419763\n",
       "22   0.7776489    45998      240.3474      0.7127372 0.9863472 0.8660413\n",
       "23   0.6530315    38941      221.5247      0.7865714 0.9897537 0.9245921\n",
       "24   0.6923769    44719      237.4374      0.7199675 0.9901384 0.9227633\n",
       "25   0.7911853    40881      226.3884      0.7305975 0.9846383 0.8547036\n",
       "26   0.8921030    48904      247.8019      0.6505868 0.9861770 0.7613693\n",
       "27   0.8833413    54923      262.9680      0.6018217 0.9888753 0.7958946\n",
       "28   0.6828901    33663      206.0551      0.7317592 0.9906128 0.9439731\n",
       "29   0.8143608    81704      321.0353      0.6782805 0.9907226 0.8506673\n",
       "30   0.7410926    29349      192.0036      0.7798427 0.9865413 0.8953317\n",
       "⋮    ⋮            ⋮          ⋮             ⋮         ⋮         ⋮        \n",
       "1332 0.7796353    44800      237.3596      0.8048492 0.9877009 0.8690682\n",
       "1333 0.8784336    56017      265.5601      0.7307124 0.9887713 0.7963714\n",
       "1334 0.7177243    40147      224.9780      0.7952668 0.9901861 0.9341996\n",
       "1335 0.8026013    50665      252.5402      0.7817035 0.9886509 0.8769186\n",
       "1336 0.7503290    47295      244.1761      0.7817660 0.9901047 0.8999744\n",
       "1337 0.7649795    27640      186.5071      0.6840946 0.9884226 0.9050391\n",
       "1338 0.7734286    41566      228.7857      0.7909572 0.9890295 0.8967880\n",
       "1339 0.7585184    43187      233.1981      0.7074637 0.9889782 0.9074328\n",
       "1340 0.5478108    41104      227.7426      0.7601418 0.9910471 0.9535567\n",
       "1341 0.8458147    83743      325.2728      0.7608222 0.9922859 0.8050168\n",
       "1342 0.7594581    39790      223.9456      0.8017627 0.9899221 0.8907598\n",
       "1343 0.8078656    49790      250.4239      0.6908188 0.9892348 0.8666001\n",
       "1344 0.7097875    34799      209.4170      0.7872914 0.9897986 0.9187996\n",
       "1345 0.7879543    78407      314.5001      0.6823124 0.9907789 0.8612244\n",
       "1346 0.7974200    67348      290.8527      0.8066948 0.9865326 0.8809222\n",
       "1347 0.7348697    38426      219.9876      0.7624980 0.9891480 0.9133245\n",
       "1348 0.8233593    78389      314.2470      0.7544650 0.9894118 0.8511218\n",
       "1349 0.8168093    40377      225.3427      0.6623377 0.9877405 0.8383829\n",
       "1350 0.6668409    44445      236.7661      0.7791050 0.9906176 0.9357445\n",
       "1351 0.5894783    36216      213.8003      0.7783415 0.9913022 0.9620840\n",
       "1352 0.7748132    46346      241.8630      0.7867932 0.9913261 0.9035693\n",
       "1353 0.7513414    35414      211.0099      0.7736555 0.9874626 0.9018384\n",
       "1354 0.7318147    30564      196.3412      0.7972037 0.9906099 0.9368182\n",
       "1355 0.7674772    42230      230.7584      0.7479032 0.9903386 0.8981094\n",
       "1356 0.8151468    52794      257.0749      0.7396720 0.9831610 0.7210431\n",
       "1357 0.7957968    31472      199.1549      0.7120229 0.9898005 0.8794532\n",
       "1358 0.6510740    37195      216.6488      0.7466278 0.9911010 0.9483390\n",
       "1359 0.7591591    45329      238.5475      0.7069216 0.9859692 0.8610892\n",
       "1360 0.7892216    41883      229.5718      0.7116234 0.9883007 0.8701488\n",
       "1361 0.5054717    46415      241.9920      0.7735767 0.9909081 0.9608316\n",
       "     Compactness ShapeFactor1 ShapeFactor2 ShapeFactor3 ShapeFactor4\n",
       "1    0.9224669   0.006178820  0.002759869  0.8509452    0.9984442   \n",
       "2    0.8119737   0.006847183  0.001835944  0.6593012    0.9973678   \n",
       "3    0.7587570   0.005394785  0.001102973  0.5757122    0.9933525   \n",
       "4    0.8210580   0.008561821  0.002400166  0.6741362    0.9975306   \n",
       "5    0.8118912   0.007094776  0.001901559  0.6591674    0.9954311   \n",
       "6    0.8142262   0.006200970  0.001681201  0.6629643    0.9989756   \n",
       "7    0.7848067   0.007605065  0.001779646  0.6159216    0.9912308   \n",
       "8    0.8079212   0.008546209  0.002246101  0.6527367    0.9970911   \n",
       "9    0.8101460   0.006692102  0.001778261  0.6563366    0.9977702   \n",
       "10   0.7622485   0.005809460  0.001209767  0.5810228    0.9931651   \n",
       "11   0.7590393   0.007366937  0.001508425  0.5761406    0.9958383   \n",
       "12   0.8001526   0.008021467  0.002028266  0.6402442    0.9982492   \n",
       "13   0.7766280   0.007931766  0.001779925  0.6031510    0.9984657   \n",
       "14   0.7723208   0.006902689  0.001514918  0.5964794    0.9958524   \n",
       "15   0.9145335   0.006091003  0.002628252  0.8363715    0.9984371   \n",
       "16   0.7685482   0.007035418  0.001514098  0.5906663    0.9969748   \n",
       "17   0.8319570   0.006341845  0.001874126  0.6921524    0.9977933   \n",
       "18   0.8717003   0.007126187  0.002538083  0.7598614    0.9967624   \n",
       "19   0.7810476   0.006307349  0.001447893  0.6100353    0.9946445   \n",
       "20   0.8087494   0.006786735  0.001791004  0.6540756    0.9896659   \n",
       "21   0.9162577   0.006166568  0.002680981  0.8395281    0.9986265   \n",
       "22   0.7915586   0.006692488  0.001620689  0.6265650    0.9966060   \n",
       "23   0.8697080   0.006608676  0.002332320  0.7563920    0.9987605   \n",
       "24   0.8485744   0.006319331  0.002021206  0.7200786    0.9979800   \n",
       "25   0.7800827   0.007209668  0.001646864  0.6085290    0.9950169   \n",
       "26   0.6676108   0.007696302  0.000943094  0.4457041    0.9864376   \n",
       "27   0.6826185   0.007092986  0.000949995  0.4659680    0.9941069   \n",
       "28   0.8538968   0.007236379  0.002373136  0.7291397    0.9981090   \n",
       "29   0.7592398   0.005223702  0.001070715  0.5764450    0.9932561   \n",
       "30   0.8185989   0.008100832  0.002243851  0.6701042    0.9980657   \n",
       "⋮    ⋮           ⋮            ⋮            ⋮            ⋮           \n",
       "1332 0.7891016   0.006797832  0.001625855  0.6226813    0.9943272   \n",
       "1333 0.6886492   0.006962243  0.000965875  0.4742377    0.9924106   \n",
       "1334 0.8335083   0.006789850  0.002021527  0.6947361    0.9977148   \n",
       "1335 0.7704484   0.006543890  0.001422296  0.5935907    0.9950963   \n",
       "1336 0.8113041   0.006427221  0.001717662  0.6582143    0.9956884   \n",
       "1337 0.8012271   0.008520382  0.002166014  0.6419648    0.9967552   \n",
       "1338 0.7939127   0.007009847  0.001717827  0.6302974    0.9943429   \n",
       "1339 0.8066763   0.006768398  0.001767921  0.6507266    0.9985804   \n",
       "1340 0.9135502   0.006119747  0.002629317  0.8345740    0.9975756   \n",
       "1341 0.7261317   0.005390722  0.000924461  0.5272673    0.9883602   \n",
       "1342 0.8047599   0.007064823  0.001827874  0.6476385    0.9955150   \n",
       "1343 0.7654527   0.006642261  0.001406595  0.5859178    0.9941482   \n",
       "1344 0.8388188   0.007248199  0.002213515  0.7036170    0.9988659   \n",
       "1345 0.7818204   0.005178241  0.001193411  0.6112431    0.9927067   \n",
       "1346 0.7721044   0.005669711  0.001242925  0.5961452    0.9879365   \n",
       "1347 0.8227794   0.007034422  0.001988575  0.6769660    0.9981683   \n",
       "1348 0.7505420   0.005398386  0.001056681  0.5633134    0.9925868   \n",
       "1349 0.7585878   0.007448361  0.001521472  0.5754555    0.9974827   \n",
       "1350 0.8624894   0.006235005  0.002128294  0.7438879    0.9982392   \n",
       "1351 0.8982208   0.006630079  0.002662140  0.8068006    0.9987823   \n",
       "1352 0.7941609   0.006628758  0.001626469  0.6306915    0.9976293   \n",
       "1353 0.8117726   0.007433149  0.001991087  0.6589747    0.9985772   \n",
       "1354 0.8251403   0.007859065  0.002247304  0.6808565    0.9990504   \n",
       "1355 0.7997578   0.006899127  0.001741037  0.6396126    0.9977170   \n",
       "1356 0.7591259   0.006524341  0.001336508  0.5762721    0.9948515   \n",
       "1357 0.7768859   0.008229279  0.001849143  0.6035518    0.9966776   \n",
       "1358 0.8708515   0.006748538  0.002394230  0.7583824    0.9991675   \n",
       "1359 0.8047791   0.006632215  0.001716110  0.6476695    0.9950290   \n",
       "1360 0.7822954   0.007089585  0.001637886  0.6119861    0.9965438   \n",
       "1361 0.9281073   0.005669060  0.002594678  0.8613831    0.9983078   "
      ]
     },
     "metadata": {},
     "output_type": "display_data"
    }
   ],
   "source": [
    "bean_subset <- random_sample |>\n",
    "    select(Class, Area, Perimeter, MajorAxisLength, MinorAxisLength, AspectRation, Eccentricity, ConvexArea, EquivDiameter, Extent, Solidity, roundness, Compactness, ShapeFactor1, ShapeFactor2, ShapeFactor3, ShapeFactor4)\n",
    "names <- colnames(bean_subset |> select(-Class))\n",
    "bean_subset"
   ]
  },
  {
   "cell_type": "code",
   "execution_count": null,
   "id": "37e0e7f4-99af-4aea-af22-7b858878976b",
   "metadata": {
    "tags": []
   },
   "outputs": [],
   "source": [
    "# create an empty tibble to store the results\n",
    "accuracies <- tibble(size = integer(), \n",
    "                     model_string = character(), \n",
    "                     accuracy = numeric())\n",
    "\n",
    "# create a model specification\n",
    "knn_spec1 <- nearest_neighbor(weight_func = \"rectangular\", \n",
    "                             neighbors = tune()) |>\n",
    "     set_engine(\"kknn\") |>\n",
    "     set_mode(\"classification\")\n",
    "\n",
    "# create a 5-fold cross-validation object\n",
    "bean0_vfold <- vfold_cv(bean_subset, v = 5, strata = Class)\n",
    "\n",
    "# store the total number of predictors\n",
    "n_total <- length(names)\n",
    "\n",
    "# stores selected predictors\n",
    "selected <- c()\n",
    "\n",
    "# for every size from 1 to the total number of predictors\n",
    "for (i in 1:n_total) {\n",
    "    # for every predictor still not added yet\n",
    "    accs <- list()\n",
    "    models <- list()\n",
    "    for (j in 1:length(names)) {\n",
    "        # create a model string for this combination of predictors\n",
    "        preds_new <- c(selected, names[[j]])\n",
    "        model_string <- paste(\"Class\", \"~\", paste(preds_new, collapse=\"+\"))\n",
    "\n",
    "        # create a recipe from the model string\n",
    "        bean_recipe <- recipe(as.formula(model_string), \n",
    "                                data = bean_subset) |>\n",
    "                          step_scale(all_predictors()) |>\n",
    "                          step_center(all_predictors())\n",
    "\n",
    "        # tune the KNN classifier with these predictors, \n",
    "        # and collect the accuracy for the best K\n",
    "        acc <- workflow() |>\n",
    "          add_recipe(bean_recipe) |>\n",
    "          add_model(knn_spec1) |>\n",
    "          tune_grid(resamples = bean0_vfold, grid = 10) |>\n",
    "          collect_metrics() |>\n",
    "          filter(.metric == \"accuracy\") |>\n",
    "          summarize(mx = max(mean))\n",
    "        acc <- acc$mx |> unlist()\n",
    "\n",
    "        # add this result to the dataframe\n",
    "        accs[[j]] <- acc\n",
    "        models[[j]] <- model_string\n",
    "    }\n",
    "    jstar <- which.max(unlist(accs))\n",
    "    accuracies <- accuracies |> \n",
    "      add_row(size = i, \n",
    "              model_string = models[[jstar]], \n",
    "              accuracy = accs[[jstar]])\n",
    "    selected <- c(selected, names[[jstar]])\n",
    "    names <- names[-jstar]\n",
    "}\n",
    "accuracies"
   ]
  },
  {
   "cell_type": "code",
   "execution_count": 13,
   "id": "7ba8f418-f201-44e9-b9f9-e9ea8c95f38a",
   "metadata": {
    "tags": []
   },
   "outputs": [],
   "source": [
    "bean_recipe <- recipe(Class ~ Area + MinorAxisLength + AspectRation + ConvexArea + EquivDiameter + roundness + Compactness + ShapeFactor2, data = bean_train) |>\n",
    "    step_scale(all_predictors()) |>\n",
    "    step_center(all_predictors())\n"
   ]
  },
  {
   "cell_type": "code",
   "execution_count": 14,
   "id": "fd6cffc0-1fa7-4a1e-86d2-e69d0ec1af7f",
   "metadata": {
    "tags": []
   },
   "outputs": [
    {
     "data": {
      "text/plain": [
       "══ Workflow [trained] ══════════════════════════════════════════════════════════\n",
       "\u001b[3mPreprocessor:\u001b[23m Recipe\n",
       "\u001b[3mModel:\u001b[23m nearest_neighbor()\n",
       "\n",
       "── Preprocessor ────────────────────────────────────────────────────────────────\n",
       "2 Recipe Steps\n",
       "\n",
       "• step_scale()\n",
       "• step_center()\n",
       "\n",
       "── Model ───────────────────────────────────────────────────────────────────────\n",
       "\n",
       "Call:\n",
       "kknn::train.kknn(formula = ..y ~ ., data = data, ks = min_rows(3,     data, 5), kernel = ~\"rectangular\")\n",
       "\n",
       "Type of response variable: nominal\n",
       "Minimal misclassification: 0.09617272\n",
       "Best kernel: rectangular\n",
       "Best k: 3"
      ]
     },
     "metadata": {},
     "output_type": "display_data"
    }
   ],
   "source": [
    "knn_spec <- nearest_neighbor(weight_func = \"rectangular\", neighbors = 3) |>\n",
    "  set_engine(\"kknn\") |>\n",
    "  set_mode(\"classification\")\n",
    "\n",
    "knn_fit <- workflow() |>\n",
    "  add_recipe(bean_recipe) |>\n",
    "  add_model(knn_spec) |>\n",
    "  fit(data = bean_train)\n",
    "\n",
    "knn_fit"
   ]
  },
  {
   "cell_type": "code",
   "execution_count": 15,
   "id": "940a7741-1254-4e91-9de6-5b994244614a",
   "metadata": {
    "tags": []
   },
   "outputs": [
    {
     "data": {
      "text/html": [
       "<table class=\"dataframe\">\n",
       "<caption>A tibble: 1 × 3</caption>\n",
       "<thead>\n",
       "\t<tr><th scope=col>.metric</th><th scope=col>.estimator</th><th scope=col>.estimate</th></tr>\n",
       "\t<tr><th scope=col>&lt;chr&gt;</th><th scope=col>&lt;chr&gt;</th><th scope=col>&lt;dbl&gt;</th></tr>\n",
       "</thead>\n",
       "<tbody>\n",
       "\t<tr><td>accuracy</td><td>multiclass</td><td>0.8830409</td></tr>\n",
       "</tbody>\n",
       "</table>\n"
      ],
      "text/latex": [
       "A tibble: 1 × 3\n",
       "\\begin{tabular}{lll}\n",
       " .metric & .estimator & .estimate\\\\\n",
       " <chr> & <chr> & <dbl>\\\\\n",
       "\\hline\n",
       "\t accuracy & multiclass & 0.8830409\\\\\n",
       "\\end{tabular}\n"
      ],
      "text/markdown": [
       "\n",
       "A tibble: 1 × 3\n",
       "\n",
       "| .metric &lt;chr&gt; | .estimator &lt;chr&gt; | .estimate &lt;dbl&gt; |\n",
       "|---|---|---|\n",
       "| accuracy | multiclass | 0.8830409 |\n",
       "\n"
      ],
      "text/plain": [
       "  .metric  .estimator .estimate\n",
       "1 accuracy multiclass 0.8830409"
      ]
     },
     "metadata": {},
     "output_type": "display_data"
    }
   ],
   "source": [
    "bean_predictions <- predict(knn_fit, bean_test) |>\n",
    "  bind_cols(bean_test)\n",
    "\n",
    "bean_predictions |>\n",
    "  metrics(truth = Class, estimate = .pred_class) |>\n",
    "  filter(.metric == \"accuracy\")"
   ]
  },
  {
   "cell_type": "markdown",
   "id": "4893071b-291c-4922-8d7e-3bebc5078085",
   "metadata": {},
   "source": [
    "Then we create 5 folds measuring the accuracy of each of the different K nearest neighbors. This is done from 2 to 100 so that the graph shows the entire range of possible K values."
   ]
  },
  {
   "cell_type": "code",
   "execution_count": 144,
   "id": "6702b24f-f399-4c9e-a93d-7158b1dd5890",
   "metadata": {
    "tags": []
   },
   "outputs": [
    {
     "data": {
      "text/html": [
       "<table class=\"dataframe\">\n",
       "<caption>A tibble: 20 × 7</caption>\n",
       "<thead>\n",
       "\t<tr><th scope=col>neighbors</th><th scope=col>.metric</th><th scope=col>.estimator</th><th scope=col>mean</th><th scope=col>n</th><th scope=col>std_err</th><th scope=col>.config</th></tr>\n",
       "\t<tr><th scope=col>&lt;dbl&gt;</th><th scope=col>&lt;chr&gt;</th><th scope=col>&lt;chr&gt;</th><th scope=col>&lt;dbl&gt;</th><th scope=col>&lt;int&gt;</th><th scope=col>&lt;dbl&gt;</th><th scope=col>&lt;chr&gt;</th></tr>\n",
       "</thead>\n",
       "<tbody>\n",
       "\t<tr><td> 2</td><td>accuracy</td><td>multiclass</td><td>0.8891726</td><td>5</td><td>0.007128527</td><td>Preprocessor1_Model01</td></tr>\n",
       "\t<tr><td> 7</td><td>accuracy</td><td>multiclass</td><td>0.9077528</td><td>5</td><td>0.003909457</td><td>Preprocessor1_Model02</td></tr>\n",
       "\t<tr><td>12</td><td>accuracy</td><td>multiclass</td><td>0.9126644</td><td>5</td><td>0.004990231</td><td>Preprocessor1_Model03</td></tr>\n",
       "\t<tr><td>17</td><td>accuracy</td><td>multiclass</td><td>0.9107180</td><td>5</td><td>0.004105812</td><td>Preprocessor1_Model04</td></tr>\n",
       "\t<tr><td>22</td><td>accuracy</td><td>multiclass</td><td>0.9097233</td><td>5</td><td>0.003934731</td><td>Preprocessor1_Model05</td></tr>\n",
       "\t<tr><td>27</td><td>accuracy</td><td>multiclass</td><td>0.9107182</td><td>5</td><td>0.005147812</td><td>Preprocessor1_Model06</td></tr>\n",
       "\t<tr><td>32</td><td>accuracy</td><td>multiclass</td><td>0.9038505</td><td>5</td><td>0.005834315</td><td>Preprocessor1_Model07</td></tr>\n",
       "\t<tr><td>37</td><td>accuracy</td><td>multiclass</td><td>0.8989242</td><td>5</td><td>0.007355234</td><td>Preprocessor1_Model08</td></tr>\n",
       "\t<tr><td>42</td><td>accuracy</td><td>multiclass</td><td>0.8969634</td><td>5</td><td>0.008329745</td><td>Preprocessor1_Model09</td></tr>\n",
       "\t<tr><td>47</td><td>accuracy</td><td>multiclass</td><td>0.8950027</td><td>5</td><td>0.008547528</td><td>Preprocessor1_Model10</td></tr>\n",
       "\t<tr><td>52</td><td>accuracy</td><td>multiclass</td><td>0.8959880</td><td>5</td><td>0.007774547</td><td>Preprocessor1_Model11</td></tr>\n",
       "\t<tr><td>57</td><td>accuracy</td><td>multiclass</td><td>0.8880671</td><td>5</td><td>0.009537037</td><td>Preprocessor1_Model12</td></tr>\n",
       "\t<tr><td>62</td><td>accuracy</td><td>multiclass</td><td>0.8802046</td><td>5</td><td>0.012147364</td><td>Preprocessor1_Model13</td></tr>\n",
       "\t<tr><td>67</td><td>accuracy</td><td>multiclass</td><td>0.8703765</td><td>5</td><td>0.013472595</td><td>Preprocessor1_Model14</td></tr>\n",
       "\t<tr><td>72</td><td>accuracy</td><td>multiclass</td><td>0.8615525</td><td>5</td><td>0.010195890</td><td>Preprocessor1_Model15</td></tr>\n",
       "\t<tr><td>77</td><td>accuracy</td><td>multiclass</td><td>0.8527480</td><td>5</td><td>0.010522132</td><td>Preprocessor1_Model16</td></tr>\n",
       "\t<tr><td>82</td><td>accuracy</td><td>multiclass</td><td>0.8498113</td><td>5</td><td>0.008145237</td><td>Preprocessor1_Model17</td></tr>\n",
       "\t<tr><td>87</td><td>accuracy</td><td>multiclass</td><td>0.8449187</td><td>5</td><td>0.008391110</td><td>Preprocessor1_Model18</td></tr>\n",
       "\t<tr><td>92</td><td>accuracy</td><td>multiclass</td><td>0.8419725</td><td>5</td><td>0.007467232</td><td>Preprocessor1_Model19</td></tr>\n",
       "\t<tr><td>97</td><td>accuracy</td><td>multiclass</td><td>0.8390504</td><td>5</td><td>0.006680038</td><td>Preprocessor1_Model20</td></tr>\n",
       "</tbody>\n",
       "</table>\n"
      ],
      "text/latex": [
       "A tibble: 20 × 7\n",
       "\\begin{tabular}{lllllll}\n",
       " neighbors & .metric & .estimator & mean & n & std\\_err & .config\\\\\n",
       " <dbl> & <chr> & <chr> & <dbl> & <int> & <dbl> & <chr>\\\\\n",
       "\\hline\n",
       "\t  2 & accuracy & multiclass & 0.8891726 & 5 & 0.007128527 & Preprocessor1\\_Model01\\\\\n",
       "\t  7 & accuracy & multiclass & 0.9077528 & 5 & 0.003909457 & Preprocessor1\\_Model02\\\\\n",
       "\t 12 & accuracy & multiclass & 0.9126644 & 5 & 0.004990231 & Preprocessor1\\_Model03\\\\\n",
       "\t 17 & accuracy & multiclass & 0.9107180 & 5 & 0.004105812 & Preprocessor1\\_Model04\\\\\n",
       "\t 22 & accuracy & multiclass & 0.9097233 & 5 & 0.003934731 & Preprocessor1\\_Model05\\\\\n",
       "\t 27 & accuracy & multiclass & 0.9107182 & 5 & 0.005147812 & Preprocessor1\\_Model06\\\\\n",
       "\t 32 & accuracy & multiclass & 0.9038505 & 5 & 0.005834315 & Preprocessor1\\_Model07\\\\\n",
       "\t 37 & accuracy & multiclass & 0.8989242 & 5 & 0.007355234 & Preprocessor1\\_Model08\\\\\n",
       "\t 42 & accuracy & multiclass & 0.8969634 & 5 & 0.008329745 & Preprocessor1\\_Model09\\\\\n",
       "\t 47 & accuracy & multiclass & 0.8950027 & 5 & 0.008547528 & Preprocessor1\\_Model10\\\\\n",
       "\t 52 & accuracy & multiclass & 0.8959880 & 5 & 0.007774547 & Preprocessor1\\_Model11\\\\\n",
       "\t 57 & accuracy & multiclass & 0.8880671 & 5 & 0.009537037 & Preprocessor1\\_Model12\\\\\n",
       "\t 62 & accuracy & multiclass & 0.8802046 & 5 & 0.012147364 & Preprocessor1\\_Model13\\\\\n",
       "\t 67 & accuracy & multiclass & 0.8703765 & 5 & 0.013472595 & Preprocessor1\\_Model14\\\\\n",
       "\t 72 & accuracy & multiclass & 0.8615525 & 5 & 0.010195890 & Preprocessor1\\_Model15\\\\\n",
       "\t 77 & accuracy & multiclass & 0.8527480 & 5 & 0.010522132 & Preprocessor1\\_Model16\\\\\n",
       "\t 82 & accuracy & multiclass & 0.8498113 & 5 & 0.008145237 & Preprocessor1\\_Model17\\\\\n",
       "\t 87 & accuracy & multiclass & 0.8449187 & 5 & 0.008391110 & Preprocessor1\\_Model18\\\\\n",
       "\t 92 & accuracy & multiclass & 0.8419725 & 5 & 0.007467232 & Preprocessor1\\_Model19\\\\\n",
       "\t 97 & accuracy & multiclass & 0.8390504 & 5 & 0.006680038 & Preprocessor1\\_Model20\\\\\n",
       "\\end{tabular}\n"
      ],
      "text/markdown": [
       "\n",
       "A tibble: 20 × 7\n",
       "\n",
       "| neighbors &lt;dbl&gt; | .metric &lt;chr&gt; | .estimator &lt;chr&gt; | mean &lt;dbl&gt; | n &lt;int&gt; | std_err &lt;dbl&gt; | .config &lt;chr&gt; |\n",
       "|---|---|---|---|---|---|---|\n",
       "|  2 | accuracy | multiclass | 0.8891726 | 5 | 0.007128527 | Preprocessor1_Model01 |\n",
       "|  7 | accuracy | multiclass | 0.9077528 | 5 | 0.003909457 | Preprocessor1_Model02 |\n",
       "| 12 | accuracy | multiclass | 0.9126644 | 5 | 0.004990231 | Preprocessor1_Model03 |\n",
       "| 17 | accuracy | multiclass | 0.9107180 | 5 | 0.004105812 | Preprocessor1_Model04 |\n",
       "| 22 | accuracy | multiclass | 0.9097233 | 5 | 0.003934731 | Preprocessor1_Model05 |\n",
       "| 27 | accuracy | multiclass | 0.9107182 | 5 | 0.005147812 | Preprocessor1_Model06 |\n",
       "| 32 | accuracy | multiclass | 0.9038505 | 5 | 0.005834315 | Preprocessor1_Model07 |\n",
       "| 37 | accuracy | multiclass | 0.8989242 | 5 | 0.007355234 | Preprocessor1_Model08 |\n",
       "| 42 | accuracy | multiclass | 0.8969634 | 5 | 0.008329745 | Preprocessor1_Model09 |\n",
       "| 47 | accuracy | multiclass | 0.8950027 | 5 | 0.008547528 | Preprocessor1_Model10 |\n",
       "| 52 | accuracy | multiclass | 0.8959880 | 5 | 0.007774547 | Preprocessor1_Model11 |\n",
       "| 57 | accuracy | multiclass | 0.8880671 | 5 | 0.009537037 | Preprocessor1_Model12 |\n",
       "| 62 | accuracy | multiclass | 0.8802046 | 5 | 0.012147364 | Preprocessor1_Model13 |\n",
       "| 67 | accuracy | multiclass | 0.8703765 | 5 | 0.013472595 | Preprocessor1_Model14 |\n",
       "| 72 | accuracy | multiclass | 0.8615525 | 5 | 0.010195890 | Preprocessor1_Model15 |\n",
       "| 77 | accuracy | multiclass | 0.8527480 | 5 | 0.010522132 | Preprocessor1_Model16 |\n",
       "| 82 | accuracy | multiclass | 0.8498113 | 5 | 0.008145237 | Preprocessor1_Model17 |\n",
       "| 87 | accuracy | multiclass | 0.8449187 | 5 | 0.008391110 | Preprocessor1_Model18 |\n",
       "| 92 | accuracy | multiclass | 0.8419725 | 5 | 0.007467232 | Preprocessor1_Model19 |\n",
       "| 97 | accuracy | multiclass | 0.8390504 | 5 | 0.006680038 | Preprocessor1_Model20 |\n",
       "\n"
      ],
      "text/plain": [
       "   neighbors .metric  .estimator mean      n std_err     .config              \n",
       "1   2        accuracy multiclass 0.8891726 5 0.007128527 Preprocessor1_Model01\n",
       "2   7        accuracy multiclass 0.9077528 5 0.003909457 Preprocessor1_Model02\n",
       "3  12        accuracy multiclass 0.9126644 5 0.004990231 Preprocessor1_Model03\n",
       "4  17        accuracy multiclass 0.9107180 5 0.004105812 Preprocessor1_Model04\n",
       "5  22        accuracy multiclass 0.9097233 5 0.003934731 Preprocessor1_Model05\n",
       "6  27        accuracy multiclass 0.9107182 5 0.005147812 Preprocessor1_Model06\n",
       "7  32        accuracy multiclass 0.9038505 5 0.005834315 Preprocessor1_Model07\n",
       "8  37        accuracy multiclass 0.8989242 5 0.007355234 Preprocessor1_Model08\n",
       "9  42        accuracy multiclass 0.8969634 5 0.008329745 Preprocessor1_Model09\n",
       "10 47        accuracy multiclass 0.8950027 5 0.008547528 Preprocessor1_Model10\n",
       "11 52        accuracy multiclass 0.8959880 5 0.007774547 Preprocessor1_Model11\n",
       "12 57        accuracy multiclass 0.8880671 5 0.009537037 Preprocessor1_Model12\n",
       "13 62        accuracy multiclass 0.8802046 5 0.012147364 Preprocessor1_Model13\n",
       "14 67        accuracy multiclass 0.8703765 5 0.013472595 Preprocessor1_Model14\n",
       "15 72        accuracy multiclass 0.8615525 5 0.010195890 Preprocessor1_Model15\n",
       "16 77        accuracy multiclass 0.8527480 5 0.010522132 Preprocessor1_Model16\n",
       "17 82        accuracy multiclass 0.8498113 5 0.008145237 Preprocessor1_Model17\n",
       "18 87        accuracy multiclass 0.8449187 5 0.008391110 Preprocessor1_Model18\n",
       "19 92        accuracy multiclass 0.8419725 5 0.007467232 Preprocessor1_Model19\n",
       "20 97        accuracy multiclass 0.8390504 5 0.006680038 Preprocessor1_Model20"
      ]
     },
     "metadata": {},
     "output_type": "display_data"
    }
   ],
   "source": [
    "bean_vfold <- vfold_cv(bean_train, v = 5, strata = Class)\n",
    "knn_spec2 <- nearest_neighbor(weight_func = \"rectangular\", neighbors = tune()) |>\n",
    "    set_engine(\"kknn\") |>\n",
    "    set_mode(\"classification\")\n",
    "\n",
    "k_vals <- tibble(neighbors = seq(from = 2, to = 100, by = 5))\n",
    "\n",
    "knn_results <- workflow() |>\n",
    "  add_recipe(bean_recipe) |>\n",
    "  add_model(knn_spec2) |>\n",
    "  tune_grid(resamples = bean_vfold, grid = k_vals) |>\n",
    "  collect_metrics() \n",
    "\n",
    "accuracies <- knn_results |>\n",
    "  filter(.metric == \"accuracy\")\n",
    "\n",
    "accuracies"
   ]
  },
  {
   "cell_type": "code",
   "execution_count": 145,
   "id": "569a0355-e979-4f48-b114-1f94d8d45347",
   "metadata": {
    "tags": []
   },
   "outputs": [
    {
     "data": {
      "image/png": "[encoded data removed]",
      "text/plain": [
       "plot without title"
      ]
     },
     "metadata": {
      "image/png": {
       "height": 480,
       "width": 480
      }
     },
     "output_type": "display_data"
    }
   ],
   "source": [
    "options(repr.plot.height = 8, repr.plot.width = 8)\n",
    "\n",
    "accuracy_vs_k <- ggplot(accuracies, aes(x = neighbors, y = mean)) +\n",
    "  geom_point() +\n",
    "  geom_line() +\n",
    "  labs(x = \"Neighbors\", y = \"Accuracy Estimate\") + \n",
    "  theme(text = element_text(size = 12))\n",
    "\n",
    "accuracy_vs_k"
   ]
  },
  {
   "cell_type": "markdown",
   "id": "4324947b-de0a-4007-bb09-3faf80c31230",
   "metadata": {},
   "source": [
    "From the above accuract plot, we see that the neighbors K that maximize accuracy is at K = 10 so remaking the model with this value seen below gives the \n",
    "best accuaracy of 0.8947368."
   ]
  },
  {
   "cell_type": "code",
   "execution_count": 146,
   "id": "2ef39671-6eb2-4f0d-a337-d5c787bc4c8e",
   "metadata": {
    "tags": []
   },
   "outputs": [
    {
     "data": {
      "text/html": [
       "<table class=\"dataframe\">\n",
       "<caption>A tibble: 1 × 3</caption>\n",
       "<thead>\n",
       "\t<tr><th scope=col>.metric</th><th scope=col>.estimator</th><th scope=col>.estimate</th></tr>\n",
       "\t<tr><th scope=col>&lt;chr&gt;</th><th scope=col>&lt;chr&gt;</th><th scope=col>&lt;dbl&gt;</th></tr>\n",
       "</thead>\n",
       "<tbody>\n",
       "\t<tr><td>accuracy</td><td>multiclass</td><td>0.8947368</td></tr>\n",
       "</tbody>\n",
       "</table>\n"
      ],
      "text/latex": [
       "A tibble: 1 × 3\n",
       "\\begin{tabular}{lll}\n",
       " .metric & .estimator & .estimate\\\\\n",
       " <chr> & <chr> & <dbl>\\\\\n",
       "\\hline\n",
       "\t accuracy & multiclass & 0.8947368\\\\\n",
       "\\end{tabular}\n"
      ],
      "text/markdown": [
       "\n",
       "A tibble: 1 × 3\n",
       "\n",
       "| .metric &lt;chr&gt; | .estimator &lt;chr&gt; | .estimate &lt;dbl&gt; |\n",
       "|---|---|---|\n",
       "| accuracy | multiclass | 0.8947368 |\n",
       "\n"
      ],
      "text/plain": [
       "  .metric  .estimator .estimate\n",
       "1 accuracy multiclass 0.8947368"
      ]
     },
     "metadata": {},
     "output_type": "display_data"
    }
   ],
   "source": [
    "knn_spec3 <- nearest_neighbor(weight_func = \"rectangular\", neighbors = 10) |>\n",
    "  set_engine(\"kknn\") |>\n",
    "  set_mode(\"classification\")\n",
    "\n",
    "knn_fit3 <- workflow() |>\n",
    "  add_recipe(bean_recipe) |>\n",
    "  add_model(knn_spec3) |>\n",
    "  fit(data = bean_train)\n",
    "\n",
    "bean_predictions3 <- predict(knn_fit3, bean_test) |>\n",
    "  bind_cols(bean_test)\n",
    "\n",
    "bean_predictions3 |>\n",
    "  metrics(truth = Class, estimate = .pred_class) |>\n",
    "  filter(.metric == \"accuracy\")\n"
   ]
  },
  {
   "cell_type": "code",
   "execution_count": 147,
   "id": "5757c9e2-b85d-4216-b5cc-9d2473a1f765",
   "metadata": {
    "tags": []
   },
   "outputs": [
    {
     "data": {
      "image/png": "[encoded data removed]",
      "text/plain": [
       "plot without title"
      ]
     },
     "metadata": {
      "image/png": {
       "height": 480,
       "width": 480
      }
     },
     "output_type": "display_data"
    }
   ],
   "source": [
    "k_lots <- tibble(neighbors = seq(from = 1, to = 385, by = 10))\n",
    "\n",
    "knn_results <- workflow() |>\n",
    "  add_recipe(bean_recipe) |>\n",
    "  add_model(knn_spec2) |>\n",
    "  tune_grid(resamples = bean_vfold, grid = k_lots) |>\n",
    "  collect_metrics()\n",
    "\n",
    "accuracies <- knn_results |>\n",
    "  filter(.metric == \"accuracy\")\n",
    "\n",
    "accuracy_vs_k_lots <- ggplot(accuracies, aes(x = neighbors, y = mean)) +\n",
    "  geom_point() +\n",
    "  geom_line() +\n",
    "  labs(x = \"Neighbors\", y = \"Accuracy Estimate\") + \n",
    "  theme(text = element_text(size = 12))\n",
    "\n",
    "accuracy_vs_k_lots"
   ]
  },
  {
   "cell_type": "markdown",
   "id": "561edeb4-d647-4efc-84c1-fc07a921b030",
   "metadata": {},
   "source": [
    "# Method:\n",
    "From the Dry Bean Dataset, our data analysis will consist of creating a classification model that predicts the Class or type of dry bean from a total of 12 dimensions and 4 shape forms. First, we will minimize the number of variables used in predicting the type of bean based on our predicitve question, importance to our model and cross-validation. After subsetting the data, we will evaluate the dataset by splitting it into two groups and using a training and testing set to maximize the accuracy of our predictions and performance of our model. Using the maximized accuracy K value found, we will then create a model that uses our specific variables to predict the type of bean in our dataset. This model will utilize multiple visuals to accuractely convey the fittings from our data including, a plot of estimated accuracy versus the number of neighbors, a plot of under or overfitting K neighbors and plots of the effects of irrelevant predictors."
   ]
  },
  {
   "cell_type": "markdown",
   "id": "f383939e-c2a7-4c61-a962-6ebe8826c545",
   "metadata": {},
   "source": [
    "# Expected Outcomes and Significance:\n",
    "From the Dry Bean Dataset, our data analysis aims to develop a classification model for predicting the type of dry bean using 12 dimensions and 4 shape forms. To enhance the model's efficiency, we will initially reduce the number of variables, selecting those most relevant to our predictive question and emphasizing cross-validation. Subsequently, we will assess the dataset by dividing it into training and testing sets to optimize prediction accuracy and model performance. With the optimized K value, we will construct a model utilizing specific variables to predict bean types, supported by various visuals, such as accuracy versus neighbor count, under/overfitting plots, and assessments of irrelevant predictors.\n",
    "\n",
    "\n",
    "Expected outcomes:\n",
    "1. Improved accuracy in predicting dry bean types.\n",
    "2. Identification of the most influential variables for classification.\n",
    "3. Insights into the impact of neighbor count on model performance.\n",
    "4. Assessment of the model's generalization capability.\n",
    "\n",
    "Significance:\n",
    "\n",
    "This analysis contributes to enhancing our understanding of dry bean classification and potentially improving bean type prediction accuracy, which can be valuable for various applications, such as agriculture and food processing.\n",
    "\n",
    "Questions:\n",
    "1. How does variable selection impact the model's accuracy?\n",
    "2. What is the optimal number of neighbors for the highest accuracy?\n",
    "3. How does overfitting or underfitting affect our model?\n",
    "4. What are the key predictors for dry bean classification?\n",
    "     "
   ]
  },
  {
   "cell_type": "code",
   "execution_count": null,
   "id": "d1b03860-f787-4baa-afc7-e0ac0d8c2671",
   "metadata": {},
   "outputs": [],
   "source": []
  },
  {
   "cell_type": "code",
   "execution_count": null,
   "id": "95b75de3-b480-41a8-820c-fd533225781c",
   "metadata": {},
   "outputs": [],
   "source": []
  }
 ],
 "metadata": {
  "kernelspec": {
   "display_name": "R",
   "language": "R",
   "name": "ir"
  },
  "language_info": {
   "codemirror_mode": "r",
   "file_extension": ".r",
   "mimetype": "text/x-r-source",
   "name": "R",
   "pygments_lexer": "r",
   "version": "4.3.2"
  }
 },
 "nbformat": 4,
 "nbformat_minor": 5
}
